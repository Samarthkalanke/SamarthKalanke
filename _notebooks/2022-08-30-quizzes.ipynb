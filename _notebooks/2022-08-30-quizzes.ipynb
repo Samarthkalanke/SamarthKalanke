{
 "cells": [
  {
   "cell_type": "markdown",
   "metadata": {},
   "source": [
    "---\n",
    "toc: true\n",
    "layout: post\n",
    "description: A minimal example of using markdown with fastpages.\n",
    "categories: [markdown]\n",
    "title: basketball quiz\n",
    "---\n",
    "\n",
    "# Basketabll quiz\n"
   ]
  },
  {
   "cell_type": "code",
   "execution_count": 3,
   "metadata": {},
   "outputs": [
    {
     "name": "stdout",
     "output_type": "stream",
     "text": [
      "National Basketball Association\n",
      "nice job that's correct\n",
      "Adam Silver\n",
      "nice job that's correct\n",
      "hi\n",
      "sorry that's incorrect\n"
     ]
    }
   ],
   "source": [
    "from http.client import GATEWAY_TIMEOUT\n",
    "\n",
    "\n",
    "points= 0\n",
    "answer = input(\"What does NBA stand for? \")\n",
    "print(answer)\n",
    "\n",
    "if answer == \"National Basketball Association\":\n",
    "    print (\"nice job that's correct\")\n",
    "    points += 1\n",
    "else:\n",
    "     print (\"sorry that's incorrect\")\n",
    "     points -= 0\n",
    "\n",
    "answer = input(\"Who is the NBA's commisioner? \")\n",
    "print(answer)\n",
    "\n",
    "if answer == \"Adam Silver\":\n",
    "    print (\"nice job that's correct\")\n",
    "    points += 1\n",
    "else:\n",
    "     print (\"sorry that's incorrect\")\n",
    "     points -= 0\n",
    "answer = input(\"What is the WNBA\")\n",
    "print(answer)\n",
    "\n",
    "if answer == \"irrelevant\":\n",
    "    print (\"nice job that's correct\")\n",
    "    points += 1\n",
    "else:\n",
    "     print (\"sorry that's incorrect\")\n",
    "     points -= 0\n"
   ]
  }
 ],
 "metadata": {
  "kernelspec": {
   "display_name": "Python 3.9.13 64-bit (microsoft store)",
   "language": "python",
   "name": "python3"
  },
  "language_info": {
   "codemirror_mode": {
    "name": "ipython",
    "version": 3
   },
   "file_extension": ".py",
   "mimetype": "text/x-python",
   "name": "python",
   "nbconvert_exporter": "python",
   "pygments_lexer": "ipython3",
   "version": "3.9.13"
  },
  "orig_nbformat": 4,
  "vscode": {
   "interpreter": {
    "hash": "b9c3426249d7334374c23b70574cd863c9c4586e94e725b6faba2747af0061b7"
   }
  }
 },
 "nbformat": 4,
 "nbformat_minor": 2
}
