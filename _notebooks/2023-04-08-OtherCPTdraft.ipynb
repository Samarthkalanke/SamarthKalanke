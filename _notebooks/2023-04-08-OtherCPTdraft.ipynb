{
 "cells": [
  {
   "cell_type": "code",
   "execution_count": 1,
   "metadata": {},
   "outputs": [],
   "source": [
    "word_list = [\"word\"]\n",
    "letters_inword = [\"w\",\"o\", \"r\", \"d\"]\n",
    "guessed_letters = []\n",
    "word_completion = \"_\" * len(word_list[0])\n",
    "\n",
    "def play_hangman():\n",
    "    print(word_completion)\n",
    "    word_len = len(word_list[0])\n",
    "    dash_counter = word_len \n",
    "    strikes = 6 \n",
    "    while strikes < 6 or dash_counter > 0:\n",
    "        guess = input(\"Please guess a letter or word: \").lower()\n",
    "        if len(guess) == 1 and guess.isalpha():\n",
    "            if guess in guessed_letters:\n",
    "                print(\"You already guessed the letter\", guess)\n",
    "                print(\"\\n\")\n",
    "            elif guess not in word_list[0]:\n",
    "                print(guess, \"is not in the word.\")\n",
    "                print(\"\\n\")\n",
    "                strikes -= 1\n",
    "                guessed_letters.append(guess)\n",
    "            else:\n",
    "                check_hangman(guess)\n",
    "\n",
    "def check_hangman(guess):\n",
    "    #guess = \"r\"\n",
    "    for i in range(len(letters_inword)):\n",
    "        if letters_inword[i] == guess:\n",
    "            word_completion[i] = guess\n",
    "\n"
   ]
  }
 ],
 "metadata": {
  "kernelspec": {
   "display_name": "Python 3",
   "language": "python",
   "name": "python3"
  },
  "language_info": {
   "codemirror_mode": {
    "name": "ipython",
    "version": 3
   },
   "file_extension": ".py",
   "mimetype": "text/x-python",
   "name": "python",
   "nbconvert_exporter": "python",
   "pygments_lexer": "ipython3",
   "version": "3.9.13"
  },
  "orig_nbformat": 4
 },
 "nbformat": 4,
 "nbformat_minor": 2
}
