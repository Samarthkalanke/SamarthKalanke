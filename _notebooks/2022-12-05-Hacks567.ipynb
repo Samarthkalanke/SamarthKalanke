{
 "cells": [
  {
   "cell_type": "code",
   "execution_count": null,
   "metadata": {},
   "outputs": [],
   "source": []
  }
 ],
 "metadata": {
  "kernelspec": {
   "display_name": "Python 3.9.13 64-bit (microsoft store)",
   "language": "python",
   "name": "python3"
  },
  "language_info": {
   "name": "python",
   "version": "3.9.13 (tags/v3.9.13:6de2ca5, May 17 2022, 16:36:42) [MSC v.1929 64 bit (AMD64)]"
  },
  "orig_nbformat": 4,
  "vscode": {
   "interpreter": {
    "hash": "b9c3426249d7334374c23b70574cd863c9c4586e94e725b6faba2747af0061b7"
   }
  }
 },
 "nbformat": 4,
 "nbformat_minor": 2
}
