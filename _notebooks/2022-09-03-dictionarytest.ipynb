{
 "cells": [
  {
   "cell_type": "markdown",
   "metadata": {},
   "source": [
    "---\n",
    "title: Partner quiz\n",
    "toc: true\n",
    "categories: [Quiz]\n",
    "description: Me and my partner Paaras made a quiz\n",
    "layout: post\n",
    "---\n",
    "\n",
    "# Schedule"
   ]
  },
  {
   "cell_type": "code",
   "execution_count": 1,
   "metadata": {},
   "outputs": [
    {
     "name": "stdout",
     "output_type": "stream",
     "text": [
      "[{'FirstName': 'Samarth', 'LastNameInitial': 'K.', 'DOB': 'October 19', 'Residence': 'San Diego', 'Family Members': '4', 'Age': '15'}, {'FirstName': 'Paaras', 'LastNameInitial': 'P.', 'DOB': 'June 9', 'Residence': 'San Diego', 'Family Members': '1', 'Age': '15'}]\n",
      "Looped data below \n",
      "\n",
      "Samarth K.\n",
      "\t DOB: October 19\n",
      "\t Residence: San Diego\n",
      "\t Family Members: 4\n",
      "\t Age: 15\n",
      "\n",
      "Paaras P.\n",
      "\t DOB: June 9\n",
      "\t Residence: San Diego\n",
      "\t Family Members: 1\n",
      "\t Age: 15\n",
      "\n"
     ]
    }
   ],
   "source": [
    "myDict = []\n",
    "\n",
    "myDict.append({\n",
    "    \"FirstName\": \"Samarth\",\n",
    "    \"LastNameInitial\": \"K.\",\n",
    "    \"DOB\": \"October 19\",\n",
    "    \"Residence\": \"San Diego\",\n",
    "    \"Family Members\": \"4\",\n",
    "    \"Age\": \"15\"\n",
    "})\n",
    "myDict.append({\n",
    "    \"FirstName\": \"Paaras\",\n",
    "    \"LastNameInitial\": \"P.\",\n",
    "    \"DOB\": \"June 9\",\n",
    "    \"Residence\": \"San Diego\",\n",
    "    \"Family Members\": \"1\",\n",
    "    \"Age\": \"15\"\n",
    "})\n",
    "print(myDict)\n",
    "\n",
    "\n",
    "\n",
    "def print_info(d_rec):\n",
    "    print(d_rec[\"FirstName\"], d_rec[\"LastNameInitial\"])  \n",
    "    print(\"\\t\", \"DOB:\", d_rec[\"DOB\"]) \n",
    "    print(\"\\t\", \"Residence:\", d_rec[\"Residence\"]) \n",
    "    print(\"\\t\", \"Family Members:\", d_rec[\"Family Members\"])\n",
    "    print(\"\\t\", \"Age:\", d_rec[\"Age\"])\n",
    "    print()\n",
    "\n",
    "\n",
    "\n",
    "def loop_info():\n",
    "\tprint(\"Looped data below \\n\")\n",
    "\tfor i in myDict:\n",
    "        \tprint_info(i)\n",
    "loop_info()"
   ]
  },
  {
   "cell_type": "code",
   "execution_count": 2,
   "metadata": {},
   "outputs": [
    {
     "name": "stdout",
     "output_type": "stream",
     "text": [
      "{'FirstName': 'Paaras', 'LastNameInitial': 'P.', 'DOB': 'June 9', 'Residence': 'San Diego', 'Family Members': '1', 'Age': '15'}\n",
      "{'FirstName': 'Samarth', 'LastNameInitial': 'K.', 'DOB': 'October 19', 'Residence': 'San Diego', 'Family Members': '4', 'Age': '15'}\n"
     ]
    }
   ],
   "source": [
    "myDict = []\n",
    "\n",
    "\n",
    "myDict.append({\n",
    "    \"FirstName\": \"Samarth\",\n",
    "    \"LastNameInitial\": \"K.\",\n",
    "    \"DOB\": \"October 19\",\n",
    "    \"Residence\": \"San Diego\",\n",
    "    \"Family Members\": \"4\",\n",
    "    \"Age\": \"15\"\n",
    "})\n",
    "myDict.append({\n",
    "    \"FirstName\": \"Paaras\",\n",
    "    \"LastNameInitial\": \"P.\",\n",
    "    \"DOB\": \"June 9\",\n",
    "    \"Residence\": \"San Diego\",\n",
    "    \"Family Members\": \"1\",\n",
    "    \"Age\": \"15\"\n",
    "})\n",
    "\n",
    "for i in range(len(myDict)):\n",
    "    print(myDict[i-1])"
   ]
  },
  {
   "cell_type": "code",
   "execution_count": 3,
   "metadata": {},
   "outputs": [
    {
     "name": "stdout",
     "output_type": "stream",
     "text": [
      "Correct\n",
      "Correct\n",
      "Correct\n",
      "3\n"
     ]
    }
   ],
   "source": [
    "dictionary = ({\n",
    "\t\"What is 1+1 \": \"5\",\n",
    "\t\"What is the meaning of life \": \"420\",\n",
    "\t\"What is happiness \": \"nonexistent\",\n",
    "})\n",
    "\n",
    "score = 0\n",
    "\n",
    "\n",
    "for key,value in dictionary.items():\n",
    "  questions = input(f\"{key}\")\n",
    "  if questions == value:\n",
    "    print(\"Correct\")\n",
    "    score += 1\n",
    "  else:\n",
    "    print(\"Incorrect\")\n",
    "print(score)"
   ]
  }
 ],
 "metadata": {
  "kernelspec": {
   "display_name": "Python 3.9.12 ('base')",
   "language": "python",
   "name": "python3"
  },
  "language_info": {
   "codemirror_mode": {
    "name": "ipython",
    "version": 3
   },
   "file_extension": ".py",
   "mimetype": "text/x-python",
   "name": "python",
   "nbconvert_exporter": "python",
   "pygments_lexer": "ipython3",
   "version": "3.9.12"
  },
  "orig_nbformat": 4,
  "vscode": {
   "interpreter": {
    "hash": "1a8efcfea3d4f3bd387b837e1caade29265b7dca759f6cfeef851cc0eedff2ed"
   }
  }
 },
 "nbformat": 4,
 "nbformat_minor": 2
}
