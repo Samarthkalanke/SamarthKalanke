<!--Start of Website Content-->
<html>
    <head>
    <link rel="stylesheet" href="questions.css">
    </head>
    <body>
<div class="index-header">
    <h1>Questions</h1>
    <p>Questions based on each section of the Lesson: Advay Shindikar</p>
</div>

<!--Answer the QUESTIONS based on the lesson provided-->
<div>

<h2>Write about how you plan to use what you learned in this lesson to improve your CPT project.</h2>
<!--<p>ANSWER</p>-->

<hr>
<h1>Customization 1</h1>

<h2>1. What are some of the best practices for creating effective wire-frames in computer science? How do wire-frames help with the design process?</h2>

<p>Effective wireframes should prioritize user needs and be brief, indicating the intended interactivity and being achievable to implement in code. When constructing a wireframe, it's crucial to consider that the user experience should flow logically, without distracting from the content, in addition to being visually appealing.<p>


<h2>2. How does user testing play a role in the design of user interfaces and wire-frames in computer science? Can you provide an example of a project where user testing significantly impacted the final product design?</h2>

<p>User testing is an integral part of designing user interfaces and wireframes in computer science. By conducting user testing, designers can gather feedback from real users and evaluate how well their design aligns with user needs and preferences. This information can then be used to refine and improve the design, resulting in a better user experience.<p>
<hr>

<h1>Customization 2</h1>

<h2>1. What is Bootstrap and how is it useful n developing websites?</h2>
<p>Bootstrap is a CSS library that provides modular styling classes for developers to use instead of creating their own from scratch.<p>
<h2>2. What are the benefits of using Bootstrap in web development compared to css?</h2>
<p>Bootstrap is CSS. I'm assuming you're referring to the practice of rolling your own CSS. By leveraging Bootstrap classes, the developer can save valuable time and instead use it for actual content development.
<p>
<h2>3. How can you include Bootstrap in YOUR website development?</h2>
<p>You can the resource to your HTML `<head>` tag and simply mark HTML elements with whatever classes you would like.<p>
<h2>4. What do selectors do? Explain one selector in your own words.</h2>
<p>Selectors allow you to refer to a singular element or a collection of HTML elements by an identifying attribute. Often, selectors select on the basis of the `class` attribute. The `.test` selector, for example, would apply styling to all elements with the `test` class.<p>

<hr>

<h1>JavaScript</h1>

<h2>1. What are examples of selection, iteration, and sequencing in the snake game?</h2>
<p>The code segment employs "if" statements to check if the snake has gone beyond the canvas's boundary in the x direction (Line 60). Additionally, the "forEach" higher-order method is used for iteration to traverse through each cell of the snake and draw the corresponding image on the canvas (Line 85).<p>
<!--<p>ANSWER</p>-->
<h2>2. How does ":root" contribute to the customization of the game?</h2>
<p>The `:root` selector allows you to define CSS variables for use throughout the rest of the program.<p>
<h2>3. Write 2-3 sentences about how the use of HTML, JavaScript, and CSS creates the final product.</h2>
<p>HTML is used for laying out the elements of a site, CSS arranges and styles these elements, and JavaScript adds interactivity to these elements. Each of these 3 languages has different syntax—HTML is a markup language, CSS is a styling-based markup language, and JavaScript is more of a traditional, imperative/object-oriented language.<p>


</div>
<html>
<head>
  <title>Basic Snake HTML Game</title>
  <meta charset="UTF-8">
  <link rel="stylesheet" href="snake.css">
  <script src="https://code.jquery.com/jquery-1.11.3.js"></script>
</head>
<body>
<p id="p1">SCORE:</p>
<p id="score"></p>
<p id="p2">HIGHSCORE:</p>
<p id="high"></p>
<button id="btn_stop" >Stop Snake Game</button>
<p id="end_msg"></p>
<canvas width="400" height="400" id="game"></canvas>
<script>
var canvas = document.getElementById('game');
var context = canvas.getContext('2d');
var root = document.querySelector(':root');
// the canvas width & height, snake x & y, and the apple x & y, all need to be a multiples of the grid size in order for collision detection to work
// (e.g. 16 * 25 = 400)
var grid = 16;
var count = 0;
var score=0;
//reading  last score value 
var max=0;  
var snake = {
  x: 160,
  y: 160,
  // snake velocity. moves one grid length every frame in either the x or y direction
  dx: grid,
  dy: 0,
  // keep track of all grids the snake body occupies
  cells: [],
  // length of the snake. grows when eating an apple
  maxCells: 4
};
var apple = {
  x: 320,
  y: 320
};
// get random whole numbers in a specific range
// @see https://stackoverflow.com/a/1527820/2124254
function getRandomInt(min, max) {
  return Math.floor(Math.random() * (max - min)) + min;
}
// game loop
function loop() {
  requestAnimationFrame(loop);
  // slow game loop to 15 fps instead of 60 (60/15 = 4)
  if (++count < 6) {
    return;
  }
  count = 0;
  context.clearRect(0,0,canvas.width,canvas.height);
  // move snake by it's velocity
  snake.x += snake.dx;
  snake.y += snake.dy;
  // wrap snake position horizontally on edge of screen
  if (snake.x < 0) {
    snake.x = canvas.width - grid;
  }
  else if (snake.x >= canvas.width) {
    snake.x = 0;
  }
  // wrap snake position vertically on edge of screen
  if (snake.y < 0) {
    snake.y = canvas.height - grid;
  }
  else if (snake.y >= canvas.height) {
    snake.y = 0;
  }
  // keep track of where snake has been. front of the array is always the head
  snake.cells.unshift({x: snake.x, y: snake.y});
  // remove cells as we move away from them
  if (snake.cells.length > snake.maxCells) {
    snake.cells.pop();
  }
  // draw apple
  apple_color = getComputedStyle(root).getPropertyValue('--apple');
  context.fillStyle = apple_color;
  context.fillRect(apple.x, apple.y, grid-1, grid-1);
  // draw snake one cell at a time
  context.fillStyle = getComputedStyle(root).getPropertyValue('--snake');
  snake.cells.forEach(function(cell, index) {
    // drawing 1 px smaller than the grid creates a grid effect in the snake body so you can see how long it is
    context.fillRect(cell.x, cell.y, grid-1, grid-1);
    // snake ate apple
    if (cell.x === apple.x && cell.y === apple.y) {
      snake.maxCells++;
      score+=1;
      //saving score for next playing.
      //localStorage.setItem('score',score);
      //max=score;
      document.getElementById('score').innerHTML=score;
      // canvas is 400x400 which is 25x25 grids
      apple.x = getRandomInt(0, 25) * grid;
      apple.y = getRandomInt(0, 25) * grid;
    }
    // check collision with all cells after this one (modified bubble sort)
    for (var i = index + 1; i < snake.cells.length; i++) {
      // snake occupies same space as a body part. reset game
      if (cell.x === snake.cells[i].x && cell.y === snake.cells[i].y) {
        if(score>max)
	      {
	       max=score;
	      }
        snake.x = 160;
        snake.y = 160;
        snake.cells = [];
        snake.maxCells = 4;
        snake.dx = grid;
        snake.dy = 0;
        score = 0;
        document.getElementById('score').innerHTML=score;
        apple.x = getRandomInt(0, 25) * grid;
        apple.y = getRandomInt(0, 25) * grid;
        document.getElementById('high').innerHTML=max;
      }
    }
  });
}
// listen to keyboard events to move the snake
document.addEventListener('keydown', function(e) {
  // prevent snake from backtracking on itself by checking that it's
  // not already moving on the same axis (pressing left while moving
  // left won't do anything, and pressing right while moving left
  // shouldn't let you collide with your own body)
  // left arrow key
  if (e.which === 37 && snake.dx === 0) {
    snake.dx = -grid;
    snake.dy = 0;
  }
  // up arrow key
  else if (e.which === 38 && snake.dy === 0) {
    snake.dy = -grid;
    snake.dx = 0;
  }
  // right arrow key
  else if (e.which === 39 && snake.dx === 0) {
    snake.dx = grid;
    snake.dy = 0;
  }
  // down arrow key
  else if (e.which === 40 && snake.dy === 0) {
    snake.dy = grid;
    snake.dx = 0;
  }
});
// start the game
requestAnimationFrame(loop);
function myFunction() {
  document.getElementById('end_msg').innerHTML="";
  alert('Press confirm to continue');
}
//stop playing
$(document).ready(function(){
		$('#btn_stop').click(function(){
      document.getElementById('end_msg').innerHTML="Game stopped" ;
      setTimeout(myFunction, 1000);	
		});
	});
</script>
</body>

<html>
<head>
    <style>
#id{
    background: blue;
}
</style>
</head>
<body>
<input disabled type="checkbox">

<div class="class">DIV</div>
<span id="id">SPAN</span>
<div>

<span>
<b>BOLD</b>
</span>

</div>
<ul>
<li>User 1</li>
<li class="class">User 2</li>
<li>User 3</li>
<li class="green">User 4</li>
</ul>
</body>
</html>
</html>
