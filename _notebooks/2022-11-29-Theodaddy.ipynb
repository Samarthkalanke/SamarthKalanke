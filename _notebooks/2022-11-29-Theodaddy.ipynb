{
 "cells": [
  {
   "cell_type": "code",
   "execution_count": 1,
   "metadata": {},
   "outputs": [
    {
     "name": "stdout",
     "output_type": "stream",
     "text": [
      "Theo is my daddy and i want to eat him up\n"
     ]
    }
   ],
   "source": [
    "print(\"Theo is my daddy and i want to eat him up\")\n",
    "print(\"Theo daddy said I didn't have to do 3.3 video 3 hacks because it wasn't showing up for me\")\n",
    "print(\"I put that ong and my mama\")"
   ]
  },
  {
   "cell_type": "markdown",
   "metadata": {},
   "source": [
    "# 3.3 Video 1 Question1\n",
    "\n",
    "numbers = [0,1,2,3,4,5,6,7,8,9,10]\n",
    "evens = []\n",
    "\n",
    "for i in numbers:\n",
    "    if (numbers[i] % 2 == 0):\n",
    "        evens.append(numbers[i])\n",
    "\n",
    "print(evens)\n",
    "\n",
    "# 3.3 Video 1 Answer1\n",
    "\n",
    "#When you combine all the stepes it is called squencing. \n",
    "#The step \"for i in numbers\" is iteration because it goes through all the numbers and makes it go through all of the code 10 times till it prints all the even numbers.\n",
    "\n",
    "# 3.3 Video 1 Question2\n",
    "\n",
    "i = 1\n",
    "starString = \"*\"\n",
    "while i <= 5:\n",
    "  j = 1\n",
    "  while j <= i:\n",
    "    print (\"*\", end= \"\")\n",
    "    j += 1\n",
    "  print ()\n",
    "  i += 1\n",
    "\n",
    "  # 3.3 Video 1 Answers2\n",
    "\n",
    "  When you combine all the steps it is called squencing. \n",
    "  \"while i <= 5:\" is iteration because it goes through all the steps inside this function to and gives the statement i has to be less than or equal to 5 for the code to work. \n",
    "\n",
    "  # 3.3 Video 2 Answers \n",
    "\n",
    "  #1. a = 1, b = 7, c = 3, d = 7\n",
    "\n",
    "  #2.  1 the value of hot is true, the value of cold is true\n",
    "\n",
    "  #3. num1 = 6, num2 = 11\n",
    "\n",
    "  # 3.4 Video 1 Answers\n",
    "\n",
    "  1. SmithB@gmail.com\n",
    "\n",
    "  2. ompuook "
   ]
  },
  {
   "cell_type": "markdown",
   "metadata": {},
   "source": [
    "# Code Segment 1\n",
    "\n",
    "Consider the following code segment:\n",
    "\n",
    "num1 ⟵ 25\n",
    "num2 ⟵ 15\n",
    "num3 ⟵ 30\n",
    "num2 ⟵ num3\n",
    "num3 ⟵ num1\n",
    "num1 ⟵ num2\n",
    "DISPLAY(num1)\n",
    "\n",
    "DISPLAY(num2)\n",
    "\n",
    "DISPLAY(num3)\n",
    "\n",
    "What is displayed after running this code segment?\n",
    "\n",
    "25 15 30\n",
    "30 30 25\n",
    "30 15 30\n",
    "15 30 25\n",
    "\n",
    "Answer: 2. because for num 1 the value is replaced by num 3's value which is 30. For num 2 the value is 30 because its replaced by num 1's value which was originally 25 but then was replaced by num 3's value 30. For num 3, the value is 25 because it's value is replaced by num 2 which num 2's value was replaced by num 1's.\n",
    "\n",
    "\n",
    "# Code Segment 2 \n",
    "\n",
    "Consider the following code segment:\n",
    "\n",
    "p ⟵ 10\n",
    "q ⟵ 20\n",
    "r ⟵ 30\n",
    "s ⟵ 40\n",
    "p ⟵ q\n",
    "q ⟵ r\n",
    "s ⟵ q\n",
    "r ⟵ p\n",
    "What is the value of r as a result of running this code segment\n",
    "\n",
    "10\n",
    "20\n",
    "30\n",
    "40\n",
    "\n",
    "Answer: 2. because q is the variable assigned to p and q's value is 20"
   ]
  }
 ],
 "metadata": {
  "kernelspec": {
   "display_name": "Python 3.9.13 64-bit (microsoft store)",
   "language": "python",
   "name": "python3"
  },
  "language_info": {
   "codemirror_mode": {
    "name": "ipython",
    "version": 3
   },
   "file_extension": ".py",
   "mimetype": "text/x-python",
   "name": "python",
   "nbconvert_exporter": "python",
   "pygments_lexer": "ipython3",
   "version": "3.9.13"
  },
  "orig_nbformat": 4,
  "vscode": {
   "interpreter": {
    "hash": "b9c3426249d7334374c23b70574cd863c9c4586e94e725b6faba2747af0061b7"
   }
  }
 },
 "nbformat": 4,
 "nbformat_minor": 2
}
