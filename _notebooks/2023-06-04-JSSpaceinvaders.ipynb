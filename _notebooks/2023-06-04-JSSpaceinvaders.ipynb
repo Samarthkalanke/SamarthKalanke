{
 "cells": [
  {
   "attachments": {},
   "cell_type": "markdown",
   "metadata": {},
   "source": [
    "<!DOCTYPE html>\n",
    "<html>\n",
    "<head>\n",
    "  <title>Canvas Drawing Example</title>\n",
    "  <style>\n",
    "    #canvas {\n",
    "      border: 1px solid black;\n",
    "    }\n",
    "  </style>\n",
    "</head>\n",
    "<body>\n",
    "  <h1>Canvas Drawing Example</h1>\n",
    "  \n",
    "  <canvas id=\"canvas\" width=\"500\" height=\"400\"></canvas>\n",
    "  \n",
    "  <script>\n",
    "    // JavaScript code for drawing on the canvas goes here\n",
    "    // Get the canvas element\n",
    "    function drawRectangle(){\n",
    "      var canvas = document.getElementById(\"canvas\");\n",
    "      var ctx = canvas.getContext(\"2d\");\n",
    "      // Draw a rectangle on the canvas\n",
    "      ctx.fillStyle = \"#FF0000\";\n",
    "      ctx.fillRect(50, 50, 100, 100);\n",
    "    }\n",
    "  </script>\n",
    "  <button onclick=drawRectangle()>Click Me</button>\n",
    "\n",
    "\n",
    "</body>\n",
    "</html>\n"
   ]
  },
  {
   "cell_type": "code",
   "execution_count": null,
   "metadata": {
    "vscode": {
     "languageId": "plaintext"
    }
   },
   "outputs": [],
   "source": []
  },
  {
   "attachments": {},
   "cell_type": "markdown",
   "metadata": {},
   "source": []
  }
 ],
 "metadata": {
  "language_info": {
   "name": "python"
  },
  "orig_nbformat": 4
 },
 "nbformat": 4,
 "nbformat_minor": 2
}
