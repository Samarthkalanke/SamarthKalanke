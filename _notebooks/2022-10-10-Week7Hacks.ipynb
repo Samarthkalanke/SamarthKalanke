{
 "cells": [
  {
   "cell_type": "markdown",
   "metadata": {},
   "source": [
    "# KFC API Hacks\n",
    "toc: true\n",
    "layout: post\n",
    "description: KFC proof of API; Nutrition in America\n",
    "categories: [quiz]\n",
    "title: KFC API Hacks "
   ]
  },
  {
   "cell_type": "code",
   "execution_count": 2,
   "metadata": {},
   "outputs": [
    {
     "name": "stdout",
     "output_type": "stream",
     "text": [
      "[{\"quoteId\":1,\"authorId\":1,\"quote\":\"I don't care about what nobody say or how nobody feel. I'm happy, I'm living my life, and that's what it is.\",\"nationality\":\"American\",\"profession\":\"Musician\",\"born\":\"1992-October-22\",\"name\":\"21 Savage\"},{\"quoteId\":2,\"authorId\":1,\"quote\":\"Keep da money, cars, fame, and jewelry, and jus give me all the happiness - I'll be good forever.\",\"nationality\":\"American\",\"profession\":\"Musician\",\"born\":\"1992-October-22\",\"name\":\"21 Savage\"},{\"quoteId\":3,\"authorId\":1,\"quote\":\"I'm humble and got a brain.\",\"nationality\":\"American\",\"profession\":\"Musician\",\"born\":\"1992-October-22\",\"name\":\"21 Savage\"},{\"quoteId\":4,\"authorId\":3,\"quote\":\"I think it's important for us as a society to remember that the youth within juvenile justice systems are, most of the time, youths who simply haven't had the right mentors and supporters around them - because of circumstances beyond their control.\",\"nationality\":\"German\",\"profession\":\"Actress\",\"born\":\"1990-February-11\",\"name\":\"Q'orianka Kilcher\"},{\"quoteId\":5,\"authorId\":2,\"quote\":\"I don't think anybody is a poet 24/7, only in those rare moments when a person is producing a poem.\",\"nationality\":\"American\",\"profession\":\"Author\",\"born\":\"1929-August-21\",\"name\":\"X. J. Kennedy\"},{\"quoteId\":6,\"authorId\":4,\"quote\":\"Every human being, of whatever origin, of whatever station, deserves respect. We must each respect others even as we respect ourselves.\",\"profession\":\"Statesman\",\"born\":\"1909-January-22\",\"died\":\"1974-November-25\",\"name\":\"U Thant\"},{\"quoteId\":7,\"authorId\":3,\"quote\":\"Yes, I'm proud to be indigenous. I'm half-Quechua-Huachipaeri from Peru.\",\"nationality\":\"German\",\"profession\":\"Actress\",\"born\":\"1990-February-11\",\"name\":\"Q'orianka Kilcher\"},{\"quoteId\":8,\"authorId\":1,\"quote\":\"I stopped wearing jewelry for a couple of reasons. One is because everybody wears jewelry. I outgrew it; I'm getting a little wiser and growing, so... Another reason is because the richest people that I've ever met in my life, they've never had on jewelry.\",\"nationality\":\"American\",\"profession\":\"Musician\",\"born\":\"1992-October-22\",\"name\":\"21 Savage\"},{\"quoteId\":9,\"authorId\":4,\"quote\":\"Wars begin in the minds of men, and in those minds, love and compassion would have built the defenses of peace.\",\"profession\":\"Statesman\",\"born\":\"1909-January-22\",\"died\":\"1974-November-25\",\"name\":\"U Thant\"},{\"quoteId\":10,\"authorId\":5,\"quote\":\"When you're wearing a motorcycle helmet, people don't know who you are. So I just wander around and, yeah, it's pretty awesome.\",\"nationality\":\"American\",\"profession\":\"Musician\",\"name\":\"Zac Brown\"},{\"quoteId\":11,\"authorId\":16,\"quote\":\"The beautiful thing about learning is nobody can take it away from you.\",\"nationality\":\"American\",\"profession\":\"Musician\",\"born\":\"1925-September-16\",\"died\":\"2015-May-14\",\"name\":\"B. B. King\"},{\"quoteId\":12,\"authorId\":2,\"quote\":\"My real name is Joe Kennedy, but if you live in Massachusetts, you can't sign 'Joe Kennedy.' So, back in 1957, I stuck the X on my name to be different from those people in Hyannis Port.\",\"nationality\":\"American\",\"profession\":\"Author\",\"born\":\"1929-August-21\",\"name\":\"X. J. Kennedy\"},{\"quoteId\":13,\"authorId\":12,\"quote\":\"As a successful romantic novelist - one of my publishers is Mills \\u0026 Boon - I create the sort of male heroes that no woman could fail to adore and few real men could hope to emulate.\",\"nationality\":\"American\",\"profession\":\"Author\",\"born\":\"1960\",\"name\":\"P. C. Cast\"},{\"quoteId\":14,\"authorId\":11,\"quote\":\"On Monday mornings I am dedicated to the proposition that all men are created jerks.\",\"nationality\":\"American\",\"profession\":\"Journalist\",\"born\":\"1907-December-19\",\"died\":\"1976-February-24\",\"name\":\"H. Allen Smith\"},{\"quoteId\":15,\"authorId\":8,\"quote\":\"All governments are run by liars and nothing they say should be believed.\",\"nationality\":\"American\",\"profession\":\"Journalist\",\"born\":\"1907-December-24\",\"died\":\"1989-June-18\",\"name\":\"I. F. Stone\"},{\"quoteId\":16,\"authorId\":10,\"quote\":\"The people of Somalia just do not have a voice. They are to me the most forgotten people in the world.\",\"nationality\":\"Somali\",\"profession\":\"Musician\",\"born\":\"1978-February-1\",\"name\":\"K'naan\"},{\"quoteId\":17,\"authorId\":15,\"quote\":\"Whether you're a DJ, whether you a rapper, whether you a producer, take it seriously. This is an occupation - you can get paid - don't expect to blow up overnight, and appreciate when you do get paid any type of money, appreciate it.\",\"nationality\":\"American\",\"profession\":\"Musician\",\"born\":\"1967-November-15\",\"name\":\"E-40\"},{\"quoteId\":18,\"authorId\":13,\"quote\":\"I am not a superstar or an ego. I am just the same as I always was: Someone who plays football.\",\"nationality\":\"French\",\"profession\":\"Athlete\",\"born\":\"1991-March-29\",\"name\":\"N'Golo Kante\"},{\"quoteId\":19,\"authorId\":6,\"quote\":\"Fencing is a game of living chess, a match where reflexes only work in combination with intent, and mind and body must work together at every moment.\",\"nationality\":\"American\",\"profession\":\"Author\",\"born\":\"1987-July-7\",\"name\":\"V. E. Schwab\"},{\"quoteId\":20,\"authorId\":9,\"quote\":\"Have confidence in everything. No matter what it is that you're doing, know that you can do it better than anyone.\",\"nationality\":\"American\",\"profession\":\"Actor\",\"born\":\"1991-February-24\",\"name\":\"O'Shea Jackson, Jr.\"},{\"quoteId\":21,\"authorId\":7,\"quote\":\"I'm originally from New York, and I just have a love affair with that place.\",\"nationality\":\"American\",\"profession\":\"Actor\",\"born\":\"1988-August-19\",\"name\":\"Y'lan Noel\"},{\"quoteId\":22,\"authorId\":14,\"quote\":\"It never occurred to me that we would have as grandiose a program as the Marshall Plan, but I felt that we had to do something to save Europe from economic disaster which would encourage the Communist takeover.\",\"nationality\":\"American\",\"profession\":\"Politician\",\"born\":\"1891-November-15\",\"died\":\"1986-July-26\",\"name\":\"W. Averell Harriman\"},{\"quoteId\":23,\"authorId\":17,\"quote\":\"The world continues to offer glittering prizes to those who have stout hearts and sharp swords.\",\"nationality\":\"British\",\"profession\":\"Statesman\",\"born\":\"1872-July-12\",\"died\":\"1930-September-30\",\"name\":\"F. E. Smith\"},{\"quoteId\":24,\"authorId\":21,\"quote\":\"'Bagdad Cafe' was a film that changed many, many people's lives... how they saw themselves and how they looked at their life situation. I thought I made a little movie. All the mail that I get is about how it changed lives, and that's wonderful.\",\"profession\":\"Actress\",\"born\":\"1952-December-25\",\"name\":\"C. C. H. Pounder\"},{\"quoteId\":25,\"authorId\":20,\"quote\":\"You have to believe in yourself, challenge yourself, and push yourself until the very end; that's the only way you'll succeed.\",\"nationality\":\"South Korean\",\"profession\":\"Musician\",\"born\":\"1988-August-18\",\"name\":\"G-Dragon\"}]\n"
     ]
    }
   ],
   "source": [
    "import requests\n",
    "\n",
    "url = \"https://quotel-quotes.p.rapidapi.com/quotes/list\"\n",
    "\n",
    "payload = {\n",
    "\t\"pageSize\": 25,\n",
    "\t\"page\": 0\n",
    "}\n",
    "headers = {\n",
    "\t\"content-type\": \"application/json\",\n",
    "\t\"X-RapidAPI-Key\": \"8e39206459msh63119b14325b472p1a320bjsnac696cb1d4af\",\n",
    "\t\"X-RapidAPI-Host\": \"quotel-quotes.p.rapidapi.com\"\n",
    "}\n",
    "\n",
    "response = requests.request(\"POST\", url, json=payload, headers=headers)\n",
    "\n",
    "print(response.text)"
   ]
  }
 ],
 "metadata": {
  "kernelspec": {
   "display_name": "Python 3.9.13 64-bit (microsoft store)",
   "language": "python",
   "name": "python3"
  },
  "language_info": {
   "codemirror_mode": {
    "name": "ipython",
    "version": 3
   },
   "file_extension": ".py",
   "mimetype": "text/x-python",
   "name": "python",
   "nbconvert_exporter": "python",
   "pygments_lexer": "ipython3",
   "version": "3.9.13"
  },
  "orig_nbformat": 4,
  "vscode": {
   "interpreter": {
    "hash": "b9c3426249d7334374c23b70574cd863c9c4586e94e725b6faba2747af0061b7"
   }
  }
 },
 "nbformat": 4,
 "nbformat_minor": 2
}
