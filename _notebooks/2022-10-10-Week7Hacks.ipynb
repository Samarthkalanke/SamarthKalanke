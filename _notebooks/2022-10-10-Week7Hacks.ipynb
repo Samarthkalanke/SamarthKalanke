{
 "cells": [
  {
   "cell_type": "markdown",
   "metadata": {},
   "source": [
    "# KFC API Hacks\n",
    "toc: true\n",
    "layout: post\n",
    "description: KFC proof of API; Nutrition in America\n",
    "categories: [quiz]\n",
    "title: KFC API Hacks "
   ]
  },
  {
   "cell_type": "code",
   "execution_count": 1,
   "metadata": {},
   "outputs": [
    {
     "name": "stdout",
     "output_type": "stream",
     "text": [
      "[{\"id\":1,\"storeName\":\"Kentucky Fried Chicken\",\"address\":\"2350 Miracle Mile\",\"zipCode\":\"86442\",\"phone\":\"(928) 763-2111\",\"stateName\":\"AZ\",\"cityName\":\"Bullhead City\",\"latitude\":\"35.099735982044\",\"longitude\":\"-114.59584849976\",\"monday\":{\"openTime\":\"10:10 AM\",\"closeTime\":\"22:10 PM\"},\"tuesday\":{\"openTime\":\"10:10 AM\",\"closeTime\":\"22:10 PM\"},\"wednesday\":{\"openTime\":\"10:10 AM\",\"closeTime\":\"22:10 PM\"},\"thursday\":{\"openTime\":\"10:10 AM\",\"closeTime\":\"22:10 PM\"},\"friday\":{\"openTime\":\"10:10 AM\",\"closeTime\":\"22:10 PM\"},\"saturday\":{\"openTime\":\"10:10 AM\",\"closeTime\":\"22:10 PM\"},\"sunday\":{\"openTime\":\"10:10 AM\",\"closeTime\":\"22:10 PM\"}},{\"id\":184,\"storeName\":\"Kentucky Fried Chicken\",\"address\":\"3051 W Apache Trail\",\"zipCode\":\"85120\",\"phone\":\"(480) 982-1221\",\"stateName\":\"AZ\",\"cityName\":\"Apache Junction\",\"latitude\":\"33.414670851985\",\"longitude\":\"-111.578803759\",\"monday\":{\"openTime\":\"10:10 AM\",\"closeTime\":\"21:09 PM\"},\"tuesday\":{\"openTime\":\"10:10 AM\",\"closeTime\":\"21:09 PM\"},\"wednesday\":{\"openTime\":\"10:10 AM\",\"closeTime\":\"21:09 PM\"},\"thursday\":{\"openTime\":\"10:10 AM\",\"closeTime\":\"21:09 PM\"},\"friday\":{\"openTime\":\"10:10 AM\",\"closeTime\":\"21:09 PM\"},\"saturday\":{\"openTime\":\"10:10 AM\",\"closeTime\":\"21:09 PM\"},\"sunday\":{\"openTime\":\"10:10 AM\",\"closeTime\":\"21:09 PM\"}},{\"id\":185,\"storeName\":\"Kentucky Fried Chicken\",\"address\":\"1470 N 8th St\",\"zipCode\":\"85323\",\"phone\":\"(623) 925-0696\",\"stateName\":\"AZ\",\"cityName\":\"Avondale\",\"latitude\":\"33.449317170502\",\"longitude\":\"-112.34157810491\",\"monday\":{\"openTime\":\"10:10 AM\",\"closeTime\":\"22:10 PM\"},\"tuesday\":{\"openTime\":\"10:10 AM\",\"closeTime\":\"22:10 PM\"},\"wednesday\":{\"openTime\":\"10:10 AM\",\"closeTime\":\"22:10 PM\"},\"thursday\":{\"openTime\":\"10:10 AM\",\"closeTime\":\"22:10 PM\"},\"friday\":{\"openTime\":\"10:10 AM\",\"closeTime\":\"23:11 PM\"},\"saturday\":{\"openTime\":\"10:10 AM\",\"closeTime\":\"23:11 PM\"},\"sunday\":{\"openTime\":\"10:10 AM\",\"closeTime\":\"22:10 PM\"}},{\"id\":186,\"storeName\":\"Kentucky Fried Chicken\",\"address\":\"650 South Highway 90\",\"zipCode\":\"85602\",\"phone\":\"(832) 266-1224\",\"stateName\":\"AZ\",\"cityName\":\"Benson\",\"latitude\":\"31.961709688979\",\"longitude\":\"-110.3461885773\",\"monday\":{\"openTime\":\"10:10 AM\",\"closeTime\":\"21:09 PM\"},\"tuesday\":{\"openTime\":\"10:10 AM\",\"closeTime\":\"21:09 PM\"},\"wednesday\":{\"openTime\":\"10:10 AM\",\"closeTime\":\"21:09 PM\"},\"thursday\":{\"openTime\":\"10:10 AM\",\"closeTime\":\"21:09 PM\"},\"friday\":{\"openTime\":\"10:10 AM\",\"closeTime\":\"21:09 PM\"},\"saturday\":{\"openTime\":\"10:10 AM\",\"closeTime\":\"21:09 PM\"},\"sunday\":{\"openTime\":\"10:10 AM\",\"closeTime\":\"21:09 PM\"}},{\"id\":187,\"storeName\":\"Kentucky Fried Chicken\",\"address\":\"682 S. Watson Rd\",\"zipCode\":\"85326\",\"phone\":\"(623) 327-0724\",\"stateName\":\"AZ\",\"cityName\":\"Buckeye\",\"latitude\":\"33.44071\",\"longitude\":\"-112.556964\",\"monday\":{\"openTime\":\"10:10 AM\",\"closeTime\":\"22:10 PM\"},\"tuesday\":{\"openTime\":\"10:10 AM\",\"closeTime\":\"22:10 PM\"},\"wednesday\":{\"openTime\":\"10:10 AM\",\"closeTime\":\"22:10 PM\"},\"thursday\":{\"openTime\":\"10:10 AM\",\"closeTime\":\"22:10 PM\"},\"friday\":{\"openTime\":\"10:10 AM\",\"closeTime\":\"22:10 PM\"},\"saturday\":{\"openTime\":\"10:10 AM\",\"closeTime\":\"22:10 PM\"},\"sunday\":{\"openTime\":\"10:10 AM\",\"closeTime\":\"22:10 PM\"}},{\"id\":188,\"storeName\":\"Kentucky Fried Chicken\",\"address\":\"618 E. Florence\",\"zipCode\":\"85122\",\"phone\":\"(520) 836-1043\",\"stateName\":\"AZ\",\"cityName\":\"Casa Grande\",\"latitude\":\"32.879925494908\",\"longitude\":\"-111.74578959201\",\"monday\":{\"openTime\":\"10:10 AM\",\"closeTime\":\"21:09 PM\"},\"tuesday\":{\"openTime\":\"10:10 AM\",\"closeTime\":\"21:09 PM\"},\"wednesday\":{\"openTime\":\"10:10 AM\",\"closeTime\":\"21:09 PM\"},\"thursday\":{\"openTime\":\"10:10 AM\",\"closeTime\":\"21:09 PM\"},\"friday\":{\"openTime\":\"10:10 AM\",\"closeTime\":\"22:10 PM\"},\"saturday\":{\"openTime\":\"10:10 AM\",\"closeTime\":\"22:10 PM\"},\"sunday\":{\"openTime\":\"10:10 AM\",\"closeTime\":\"21:09 PM\"}},{\"id\":189,\"storeName\":\"Kentucky Fried Chicken\",\"address\":\"2760 West Chandler Boulevard\",\"zipCode\":\"85224\",\"phone\":\"(480) 899-0776\",\"stateName\":\"AZ\",\"cityName\":\"Chandler\",\"latitude\":\"33.306732174457\",\"longitude\":\"-111.89015344043\",\"monday\":{\"openTime\":\"10:10 AM\",\"closeTime\":\"22:10 PM\"},\"tuesday\":{\"openTime\":\"10:10 AM\",\"closeTime\":\"22:10 PM\"},\"wednesday\":{\"openTime\":\"10:10 AM\",\"closeTime\":\"22:10 PM\"},\"thursday\":{\"openTime\":\"10:10 AM\",\"closeTime\":\"22:10 PM\"},\"friday\":{\"openTime\":\"10:10 AM\",\"closeTime\":\"22:10 PM\"},\"saturday\":{\"openTime\":\"10:10 AM\",\"closeTime\":\"22:10 PM\"},\"sunday\":{\"openTime\":\"10:10 AM\",\"closeTime\":\"22:10 PM\"}},{\"id\":190,\"storeName\":\"Kentucky Fried Chicken\",\"address\":\"1147 N Hwy 89\",\"zipCode\":\"86323\",\"phone\":\"(928) 636-5001\",\"stateName\":\"AZ\",\"cityName\":\"Chino Valley\",\"latitude\":\"34.761774908417\",\"longitude\":\"-112.45305904867\",\"monday\":{\"openTime\":\"08:08 AM\",\"closeTime\":\"22:10 PM\"},\"tuesday\":{\"openTime\":\"08:08 AM\",\"closeTime\":\"22:10 PM\"},\"wednesday\":{\"openTime\":\"08:08 AM\",\"closeTime\":\"22:10 PM\"},\"thursday\":{\"openTime\":\"08:08 AM\",\"closeTime\":\"22:10 PM\"},\"friday\":{\"openTime\":\"08:08 AM\",\"closeTime\":\"22:10 PM\"},\"saturday\":{\"openTime\":\"08:08 AM\",\"closeTime\":\"22:10 PM\"},\"sunday\":{\"openTime\":\"08:08 AM\",\"closeTime\":\"22:10 PM\"}},{\"id\":191,\"storeName\":\"Kentucky Fried Chicken\",\"address\":\"1505 N. Arizona Boulevard\",\"zipCode\":\"85128\",\"phone\":\"(520) 723-0250\",\"stateName\":\"AZ\",\"cityName\":\"Coolidge\",\"latitude\":\"32.996186075225\",\"longitude\":\"-111.52324171994\",\"monday\":{\"openTime\":\"10:10 AM\",\"closeTime\":\"23:11 PM\"},\"tuesday\":{\"openTime\":\"10:10 AM\",\"closeTime\":\"23:11 PM\"},\"wednesday\":{\"openTime\":\"10:10 AM\",\"closeTime\":\"23:11 PM\"},\"thursday\":{\"openTime\":\"10:10 AM\",\"closeTime\":\"23:11 PM\"},\"friday\":{\"openTime\":\"10:10 AM\",\"closeTime\":\"00:12 AM\"},\"saturday\":{\"openTime\":\"10:10 AM\",\"closeTime\":\"00:12 AM\"},\"sunday\":{\"openTime\":\"10:10 AM\",\"closeTime\":\"23:11 PM\"}},{\"id\":192,\"storeName\":\"Kentucky Fried Chicken\",\"address\":\"970 S. Main\",\"zipCode\":\"86326\",\"phone\":\"(928) 634-8376\",\"stateName\":\"AZ\",\"cityName\":\"Cottonwood\",\"latitude\":\"34.722088122899\",\"longitude\":\"-112.00446778464\",\"monday\":{\"openTime\":\"10:10 AM\",\"closeTime\":\"20:08 PM\"},\"tuesday\":{\"openTime\":\"10:10 AM\",\"closeTime\":\"20:08 PM\"},\"wednesday\":{\"openTime\":\"10:10 AM\",\"closeTime\":\"20:08 PM\"},\"thursday\":{\"openTime\":\"10:10 AM\",\"closeTime\":\"20:08 PM\"},\"friday\":{\"openTime\":\"10:10 AM\",\"closeTime\":\"20:08 PM\"},\"saturday\":{\"openTime\":\"10:10 AM\",\"closeTime\":\"20:08 PM\"},\"sunday\":{\"openTime\":\"10:10 AM\",\"closeTime\":\"20:08 PM\"}}]\n"
     ]
    }
   ],
   "source": [
    "import requests\n",
    "\n",
    "url = \"https://kfc-locations.p.rapidapi.com/kfc/location/state/AZ/0\"\n",
    "\n",
    "headers = {\n",
    "\t\"X-RapidAPI-Key\": \"8e39206459msh63119b14325b472p1a320bjsnac696cb1d4af\",\n",
    "\t\"X-RapidAPI-Host\": \"kfc-locations.p.rapidapi.com\"\n",
    "}\n",
    "\n",
    "response = requests.request(\"GET\", url, headers=headers)\n",
    "\n",
    "print(response.text)"
   ]
  }
 ],
 "metadata": {
  "kernelspec": {
   "display_name": "Python 3.9.12 ('base')",
   "language": "python",
   "name": "python3"
  },
  "language_info": {
   "codemirror_mode": {
    "name": "ipython",
    "version": 3
   },
   "file_extension": ".py",
   "mimetype": "text/x-python",
   "name": "python",
   "nbconvert_exporter": "python",
   "pygments_lexer": "ipython3",
   "version": "3.9.12"
  },
  "orig_nbformat": 4,
  "vscode": {
   "interpreter": {
    "hash": "1a8efcfea3d4f3bd387b837e1caade29265b7dca759f6cfeef851cc0eedff2ed"
   }
  }
 },
 "nbformat": 4,
 "nbformat_minor": 2
}
