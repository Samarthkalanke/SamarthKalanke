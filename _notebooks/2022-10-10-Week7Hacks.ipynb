{
 "cells": [
  {
   "cell_type": "markdown",
   "metadata": {},
   "source": [
    "# KFC API Hacks\n",
    "toc: true\n",
    "layout: post\n",
    "description: KFC proof of API; Nutrition in America\n",
    "categories: [quiz]\n",
    "title: KFC API Hacks "
   ]
  },
  {
   "cell_type": "code",
   "execution_count": 2,
   "metadata": {},
   "outputs": [
    {
     "name": "stdout",
     "output_type": "stream",
     "text": [
      "\"Gratitude is riches. Complaint is poverty.\"\n",
      "-Doris Day\n"
     ]
    }
   ],
   "source": [
    "import requests\n",
    "\n",
    "url = \"https://motivational-quotes1.p.rapidapi.com/motivation\"\n",
    "\n",
    "payload = {\n",
    "\t\"key1\": \"value\",\n",
    "\t\"key2\": \"value\"\n",
    "}\n",
    "headers = {\n",
    "\t\"content-type\": \"application/json\",\n",
    "\t\"X-RapidAPI-Key\": \"8e39206459msh63119b14325b472p1a320bjsnac696cb1d4af\",\n",
    "\t\"X-RapidAPI-Host\": \"motivational-quotes1.p.rapidapi.com\"\n",
    "}\n",
    "\n",
    "response = requests.request(\"POST\", url, json=payload, headers=headers)\n",
    "\n",
    "print(response.text)"
   ]
  }
 ],
 "metadata": {
  "kernelspec": {
   "display_name": "Python 3.9.13 64-bit (microsoft store)",
   "language": "python",
   "name": "python3"
  },
  "language_info": {
   "codemirror_mode": {
    "name": "ipython",
    "version": 3
   },
   "file_extension": ".py",
   "mimetype": "text/x-python",
   "name": "python",
   "nbconvert_exporter": "python",
   "pygments_lexer": "ipython3",
   "version": "3.9.13"
  },
  "orig_nbformat": 4,
  "vscode": {
   "interpreter": {
    "hash": "b9c3426249d7334374c23b70574cd863c9c4586e94e725b6faba2747af0061b7"
   }
  }
 },
 "nbformat": 4,
 "nbformat_minor": 2
}
