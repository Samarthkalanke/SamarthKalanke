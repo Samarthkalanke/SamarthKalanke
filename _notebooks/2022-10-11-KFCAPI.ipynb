{
 "cells": [
  {
   "cell_type": "markdown",
   "metadata": {},
   "source": [
    "---\n",
    "toc: true\n",
    "layout: post\n",
    "description: My week 7 hacks about a KFC API by location. \n",
    "categories: [markdown]\n",
    "title: KFC API Hacks\n",
    "---\n",
    "\n",
    "# KFC API Hacks"
   ]
  },
  {
   "cell_type": "code",
   "execution_count": 4,
   "metadata": {},
   "outputs": [
    {
     "name": "stdout",
     "output_type": "stream",
     "text": [
      "{'message': 'You have exceeded the MONTHLY quota for Requests on your current plan, BASIC. Upgrade your plan at https://rapidapi.com/makingdatameaningful/api/kfc-locations'}\n"
     ]
    }
   ],
   "source": [
    "import requests\n",
    "\n",
    "url = \"https://kfc-locations.p.rapidapi.com/kfc/location/state/AZ/0\"\n",
    "\n",
    "headers = {\n",
    "\t\"X-RapidAPI-Key\": \"8e39206459msh63119b14325b472p1a320bjsnac696cb1d4af\",\n",
    "\t\"X-RapidAPI-Host\": \"kfc-locations.p.rapidapi.com\"\n",
    "}\n",
    "\n",
    "response = requests.request(\"GET\", url, headers=headers)\n",
    "\n",
    "print(response.json())"
   ]
  },
  {
   "cell_type": "markdown",
   "metadata": {},
   "source": [
    "### Recap of CollegeBoard Requirements \n",
    "\n",
    "- "
   ]
  }
 ],
 "metadata": {
  "kernelspec": {
   "display_name": "Python 3.9.13 64-bit (microsoft store)",
   "language": "python",
   "name": "python3"
  },
  "language_info": {
   "codemirror_mode": {
    "name": "ipython",
    "version": 3
   },
   "file_extension": ".py",
   "mimetype": "text/x-python",
   "name": "python",
   "nbconvert_exporter": "python",
   "pygments_lexer": "ipython3",
   "version": "3.9.13"
  },
  "orig_nbformat": 4,
  "vscode": {
   "interpreter": {
    "hash": "b9c3426249d7334374c23b70574cd863c9c4586e94e725b6faba2747af0061b7"
   }
  }
 },
 "nbformat": 4,
 "nbformat_minor": 2
}
