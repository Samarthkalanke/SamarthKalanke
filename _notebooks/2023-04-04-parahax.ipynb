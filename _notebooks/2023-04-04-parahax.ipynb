{
 "cells": [
  {
   "attachments": {},
   "cell_type": "markdown",
   "metadata": {},
   "source": [
    "# Parallel Computing, Hashmaps\n",
    "\n",
    "- title: Parallel Computing, Hashmaps\n",
    "- toc: true\n",
    "- categories: [units]\n",
    "- permalink: /parallel-computing-hashmaps\n",
    "- tags: [hacks]"
   ]
  },
  {
   "attachments": {},
   "cell_type": "markdown",
   "metadata": {},
   "source": [
    "# Parallel Programming Hacks"
   ]
  },
  {
   "attachments": {},
   "cell_type": "markdown",
   "metadata": {},
   "source": [
    "## Example 1:\n",
    "\n",
    "A particular computer has two identical processors which can run in parallel. Each process must be executed on a single processor and each processor can only run one process at a time.\n",
    "\n",
    "The table below lists the amount of time it takes to execute each of the processes on a single computer. None of the processes are dependent on any of the others.\n",
    "\n",
    "What is the minimum amount of time (approximate) to execute all three processes when the two processors are run in parallel?\n",
    "\n",
    "| Process | Execution Time on Either Processor|\n",
    "| --- | --- |\n",
    "| X | 50 seconds |\n",
    "| Y | 10 seconds |\n",
    "| Z | 30 seconds |\n",
    "\n",
    "Answer: 50 seconds. "
   ]
  },
  {
   "attachments": {},
   "cell_type": "markdown",
   "metadata": {},
   "source": [
    "## Example 2:\n",
    "\n",
    "A computer has two duplicate processors that are able to run in parallel. The table below shows the amount of time it takes each processor to execute each of two processes. Neither of the processes is dependent on the other.\n",
    "\n",
    "| Process | Execution Time on Either |\n",
    "| --- | --- |\n",
    "| A | 25 seconds |\n",
    "| B | 45 seconds |\n",
    "\n",
    "**What is the difference in execution time between running the two processes in parallel in place of running one after the other on a single processor?**\n",
    "\n",
    "Sequential = 70 seconds\n",
    "\n",
    "Parallel = 25 seconds\n",
    "\n",
    "**Difference = 45 seconds**"
   ]
  },
  {
   "cell_type": "code",
   "execution_count": 2,
   "metadata": {},
   "outputs": [
    {
     "name": "stdout",
     "output_type": "stream",
     "text": [
      "Original List: [1, 2, 3, 4, 5]\n",
      "Squares: [1, 4, 9, 16, 25]\n"
     ]
    }
   ],
   "source": [
    "# Here is an example of a squaring program that uses list comprehension, parallel programming, and #\n",
    "                       # mapping to square each number in a list of numbers #\n",
    "\n",
    "import multiprocessing\n",
    "\n",
    "def square(num):\n",
    "    return num ** 2\n",
    "\n",
    "if __name__ == '__main__':\n",
    "    nums = [1, 2, 3, 4, 5]\n",
    "    pool = multiprocessing.Pool(processes=4)\n",
    "    squares = [result for result in pool.map(square, nums)]\n",
    "    print(f\"Original List: {nums}\")\n",
    "    print(f\"Squares: {squares}\")\n"
   ]
  },
  {
   "attachments": {},
   "cell_type": "markdown",
   "metadata": {},
   "source": [
    "# Hashmapping Hacks"
   ]
  },
  {
   "cell_type": "code",
   "execution_count": 2,
   "metadata": {},
   "outputs": [],
   "source": [
    "xeem = {\n",
    "    \"artist_name\": \"Lil' Xeem\",\n",
    "    \"real_name\": \"Azeem Khan\",\n",
    "    \"explicit\": True,\n",
    "    \"genres\": [\"Hip-Hop\", \"R&B\"],\n",
    "    \"platforms\": [\"Spotify\", \"Soundcloud\", \"Apple Music\", \"Amazon Music\", \"Deezer\", \"YouTube Music\"],\n",
    "    \"recent_tracks\": {\n",
    "        1: \"Lil Bish\",\n",
    "        2: \"romantic homicide\",\n",
    "        3: \"Go\",\n",
    "        4: \"Solo\",\n",
    "        5: \"Runnin'\",\n",
    "        6: \"Matte Black\",\n",
    "        7: \"Real\",\n",
    "        8: \"tbh\",\n",
    "        9: \"Don't Know Why\",\n",
    "        10: \"Not Gang\"\n",
    "    }\n",
    "}\n",
    "\n",
    "stingr = {\n",
    "    \"artist_name\": \"Stingr\",\n",
    "    \"real_name\": \"Paaras Mandar Vikas Dnyaneshwar Purohit\",\n",
    "    \"explicit\": False,\n",
    "    \"genres\": [\"Hip-Hop\", \"Rap\", \"R&B\", \"Pop\", \"Rock\"],\n",
    "    \"recent_tracks\" : {\n",
    "        1: \"Chillin' & Groovin'\",\n",
    "        2: \"Lenses\",\n",
    "        3: \"Hey, It's Me From High School\",\n",
    "        4: \"Run Away\",\n",
    "        5: \"Loco Tres\",\n",
    "        6: \"Thought So\",\n",
    "        7: \"ROCKIN DESIGNER\",\n",
    "        8: \"My Problems\",\n",
    "        9: \"Butterfly Doors\",\n",
    "        10: \"Real Wildin'\",\n",
    "    }\n",
    "}"
   ]
  },
  {
   "cell_type": "code",
   "execution_count": 4,
   "metadata": {},
   "outputs": [
    {
     "name": "stdout",
     "output_type": "stream",
     "text": [
      "{1: 'Lil Bish', 2: 'romantic homicide', 3: 'Go', 4: 'Solo', 5: \"Runnin'\", 6: 'Matte Black', 7: 'Real', 8: 'tbh', 9: \"Don't Know Why\", 10: 'Not Gang'}\n",
      "{1: \"Chillin' & Groovin'\", 2: 'Lenses', 3: \"Hey, It's Me From High School\", 4: 'Run Away', 5: 'Loco Tres', 6: 'Thought So', 7: 'ROCKIN DESIGNER', 8: 'My Problems', 9: 'Butterfly Doors', 10: \"Real Wildin'\"}\n",
      "Not Gang\n",
      "Real Wildin'\n"
     ]
    }
   ],
   "source": [
    "# In this example, Lil Xeem uses the get() method, while I use regular list accessing syntax\n",
    "\n",
    "print(xeem.get('recent_tracks'))\n",
    "print(stingr['recent_tracks'])\n",
    "\n",
    "print(xeem.get('recent_tracks')[10])\n",
    "print(stingr['recent_tracks'][10])"
   ]
  },
  {
   "cell_type": "code",
   "execution_count": 6,
   "metadata": {},
   "outputs": [
    {
     "name": "stdout",
     "output_type": "stream",
     "text": [
      "{'BOB Ramaz', 'GTRARI', 'Evvan', 'ABH', 'Beware'}\n",
      "{'Copaine', 'Foley', 'djphatjive'}\n"
     ]
    }
   ],
   "source": [
    "stingr[\"features\"] = set(['GTRARI', 'Beware', 'BOB Ramaz', 'ABH', 'Evvan', 'Beware'])\n",
    "# In the above code, the feature \"Beware\" is repeated twice. The set() method, however\n",
    "# removes the duplicate\n",
    "xeem[\"features\"] = set([\"Copaine\", \"djphatjive\", \"Foley\", \"Foley\", \"Copaine\"])\n",
    "# In the above code, the features \"Copaine\" and \"Foley\" are repeated twice. The set() method,\n",
    "# however, removes the duplicate\n",
    "\n",
    "print(stingr[\"features\"])\n",
    "print(xeem[\"features\"])"
   ]
  },
  {
   "cell_type": "code",
   "execution_count": 7,
   "metadata": {},
   "outputs": [
    {
     "name": "stdout",
     "output_type": "stream",
     "text": [
      "artist_name: Stingr\n",
      "real_name: Paaras Mandar Vikas Dnyaneshwar Purohit\n",
      "explicit: False\n",
      "genres: ['Hip-Hop', 'Rap', 'R&B', 'Pop', 'Rock']\n",
      "recent_tracks: {1: \"Chillin' & Groovin'\", 2: 'Lenses', 3: \"Hey, It's Me From High School\", 4: 'Run Away', 5: 'Loco Tres', 6: 'Thought So', 7: 'ROCKIN DESIGNER', 8: 'My Problems', 9: 'Butterfly Doors', 10: \"Real Wildin'\"}\n",
      "features: {'BOB Ramaz', 'GTRARI', 'Evvan', 'ABH', 'Beware'}\n"
     ]
    }
   ],
   "source": [
    "for k,v in stingr.items():\n",
    "    print(str(k) + \": \" + str(v))"
   ]
  },
  {
   "cell_type": "code",
   "execution_count": 8,
   "metadata": {},
   "outputs": [
    {
     "name": "stdout",
     "output_type": "stream",
     "text": [
      "artist_name: Lil' Xeem\n",
      "real_name: Azeem Khan\n",
      "explicit: True\n",
      "genres: ['Hip-Hop', 'R&B']\n",
      "platforms: ['Spotify', 'Soundcloud', 'Apple Music', 'Amazon Music', 'Deezer', 'YouTube Music']\n",
      "recent_tracks: {1: 'Lil Bish', 2: 'romantic homicide', 3: 'Go', 4: 'Solo', 5: \"Runnin'\", 6: 'Matte Black', 7: 'Real', 8: 'tbh', 9: \"Don't Know Why\", 10: 'Not Gang'}\n",
      "features: {'Copaine', 'Foley', 'djphatjive'}\n"
     ]
    }
   ],
   "source": [
    "for k,v in xeem.items():\n",
    "    print(str(k) + \": \" + str(v))"
   ]
  },
  {
   "cell_type": "code",
   "execution_count": 11,
   "metadata": {},
   "outputs": [
    {
     "name": "stdout",
     "output_type": "stream",
     "text": [
      "{1: \"Chillin' & Groovin'\", 2: 'Lenses', 3: \"Hey, It's Me From High School\", 4: 'Run Away', 5: 'Loco Tres', 6: 'Thought So', 7: 'ROCKIN DESIGNER', 8: 'My Problems', 9: 'Butterfly Doors', 10: \"Real Wildin'\"}\n"
     ]
    }
   ],
   "source": [
    "def search():\n",
    "    artist = \"\"\n",
    "    which_artist = input(\"Which artist would you like to know about, Stingr or Lil Xeem?\")\n",
    "    if which_artist.lower() == \"stingr\":\n",
    "        artist = stingr\n",
    "    elif which_artist.lower() == \"lil xeem\":\n",
    "        artist = xeem\n",
    "    else:\n",
    "        print(\"Invalid Search\")\n",
    "    search = input(\"What would you like to know about \" + str(which_artist).capitalize() + \"?\")\n",
    "    if artist.get(search.lower()) == None:\n",
    "        print(\"Invalid Search\")\n",
    "    else:\n",
    "        print(artist.get(search.lower()))\n",
    "\n",
    "search()"
   ]
  },
  {
   "attachments": {},
   "cell_type": "markdown",
   "metadata": {},
   "source": [
    "## Taylor Swift\n",
    "\n",
    "I have already wrote about why I love blank space by Taylor Swift"
   ]
  },
  {
   "attachments": {},
   "cell_type": "markdown",
   "metadata": {},
   "source": [
    "## Extra: APCSA Skits in This Week's Hacks\n",
    "\n",
    "I had the opportunity this friday to see the Algo-Rhythmic performances by the APCSA classes. In these algo-rhythms, APCSA students used fictional scenarios to depict different sorting algorithms.\n",
    "\n",
    "Two of these skits stuck with me:\n",
    "- **Attendance**. A teacher's students are all out of order, and he needs to use an algorithm to sort the students by ID number. The teacher uses the Bogosort algorithm, which is one of the most inefficient sorting algorithms, to shuffle the students' order until they are sorted from least to greatest ID number.\n",
    "- **Turtles**. A zookeeper has to do about the same thing, but this time, with the ID of turtles in a zoo. The zookeeper uses selection sort to find the least ID number, set that as the minimum, sort accordingly, find the second least ID number, and repeat until all the numbers are sorted."
   ]
  },
  {
   "attachments": {},
   "cell_type": "markdown",
   "metadata": {},
   "source": [
    "\n",
    "As I watched the two performances, I thought about how they relate to what we learned in this week's hacks. Below is an example of how Bogosort can be combined with what we learned in parallel programming and hashing/collisions (Note that as Bogosort is very inefficient, with the time complexity being O(n!), I had to interrupt the program multiple times as it took too long):"
   ]
  },
  {
   "cell_type": "code",
   "execution_count": 11,
   "metadata": {},
   "outputs": [
    {
     "name": "stdout",
     "output_type": "stream",
     "text": [
      "Unsorted list: [90, 87, 9]\n"
     ]
    },
    {
     "ename": "KeyboardInterrupt",
     "evalue": "",
     "output_type": "error",
     "traceback": [
      "\u001b[0;31m---------------------------------------------------------------------------\u001b[0m",
      "\u001b[0;31mKeyboardInterrupt\u001b[0m                         Traceback (most recent call last)",
      "\u001b[1;32m/home/paaras_purohit/vscode/apcompsciportfolio/_notebooks/2023-03-30-para-comp-hs.ipynb Cell 16\u001b[0m in \u001b[0;36m<cell line: 33>\u001b[0;34m()\u001b[0m\n\u001b[1;32m     <a href='vscode-notebook-cell://wsl%2Bubuntu-20.04/home/paaras_purohit/vscode/apcompsciportfolio/_notebooks/2023-03-30-para-comp-hs.ipynb#X21sdnNjb2RlLXJlbW90ZQ%3D%3D?line=33'>34</a>\u001b[0m lst \u001b[39m=\u001b[39m [random\u001b[39m.\u001b[39mrandint(\u001b[39m1\u001b[39m, \u001b[39m100\u001b[39m) \u001b[39mfor\u001b[39;00m _ \u001b[39min\u001b[39;00m \u001b[39mrange\u001b[39m(\u001b[39m3\u001b[39m)]\n\u001b[1;32m     <a href='vscode-notebook-cell://wsl%2Bubuntu-20.04/home/paaras_purohit/vscode/apcompsciportfolio/_notebooks/2023-03-30-para-comp-hs.ipynb#X21sdnNjb2RlLXJlbW90ZQ%3D%3D?line=34'>35</a>\u001b[0m \u001b[39mprint\u001b[39m(\u001b[39m'\u001b[39m\u001b[39mUnsorted list:\u001b[39m\u001b[39m'\u001b[39m, lst)\n\u001b[0;32m---> <a href='vscode-notebook-cell://wsl%2Bubuntu-20.04/home/paaras_purohit/vscode/apcompsciportfolio/_notebooks/2023-03-30-para-comp-hs.ipynb#X21sdnNjb2RlLXJlbW90ZQ%3D%3D?line=35'>36</a>\u001b[0m sorted_lst \u001b[39m=\u001b[39m bogosort(lst, \u001b[39m2\u001b[39;49m)\n\u001b[1;32m     <a href='vscode-notebook-cell://wsl%2Bubuntu-20.04/home/paaras_purohit/vscode/apcompsciportfolio/_notebooks/2023-03-30-para-comp-hs.ipynb#X21sdnNjb2RlLXJlbW90ZQ%3D%3D?line=36'>37</a>\u001b[0m \u001b[39mprint\u001b[39m(\u001b[39m'\u001b[39m\u001b[39mSorted list:\u001b[39m\u001b[39m'\u001b[39m, sorted_lst)\n",
      "\u001b[1;32m/home/paaras_purohit/vscode/apcompsciportfolio/_notebooks/2023-03-30-para-comp-hs.ipynb Cell 16\u001b[0m in \u001b[0;36mbogosort\u001b[0;34m(lst, num_procs)\u001b[0m\n\u001b[1;32m     <a href='vscode-notebook-cell://wsl%2Bubuntu-20.04/home/paaras_purohit/vscode/apcompsciportfolio/_notebooks/2023-03-30-para-comp-hs.ipynb#X21sdnNjb2RlLXJlbW90ZQ%3D%3D?line=17'>18</a>\u001b[0m     chunks \u001b[39m=\u001b[39m [lst[i:i\u001b[39m+\u001b[39m\u001b[39mlen\u001b[39m(lst)\u001b[39m/\u001b[39m\u001b[39m/\u001b[39mnum_procs] \u001b[39mfor\u001b[39;00m i \u001b[39min\u001b[39;00m \u001b[39mrange\u001b[39m(\u001b[39m0\u001b[39m, \u001b[39mlen\u001b[39m(lst), \u001b[39mlen\u001b[39m(lst)\u001b[39m/\u001b[39m\u001b[39m/\u001b[39mnum_procs)]\n\u001b[1;32m     <a href='vscode-notebook-cell://wsl%2Bubuntu-20.04/home/paaras_purohit/vscode/apcompsciportfolio/_notebooks/2023-03-30-para-comp-hs.ipynb#X21sdnNjb2RlLXJlbW90ZQ%3D%3D?line=18'>19</a>\u001b[0m     results \u001b[39m=\u001b[39m pool\u001b[39m.\u001b[39mmap_async(sort_chunk, chunks)\n\u001b[0;32m---> <a href='vscode-notebook-cell://wsl%2Bubuntu-20.04/home/paaras_purohit/vscode/apcompsciportfolio/_notebooks/2023-03-30-para-comp-hs.ipynb#X21sdnNjb2RlLXJlbW90ZQ%3D%3D?line=19'>20</a>\u001b[0m     lst \u001b[39m=\u001b[39m [item \u001b[39mfor\u001b[39;00m sublist \u001b[39min\u001b[39;00m results\u001b[39m.\u001b[39;49mget() \u001b[39mfor\u001b[39;00m item \u001b[39min\u001b[39;00m sublist]\n\u001b[1;32m     <a href='vscode-notebook-cell://wsl%2Bubuntu-20.04/home/paaras_purohit/vscode/apcompsciportfolio/_notebooks/2023-03-30-para-comp-hs.ipynb#X21sdnNjb2RlLXJlbW90ZQ%3D%3D?line=20'>21</a>\u001b[0m pool\u001b[39m.\u001b[39mclose()\n\u001b[1;32m     <a href='vscode-notebook-cell://wsl%2Bubuntu-20.04/home/paaras_purohit/vscode/apcompsciportfolio/_notebooks/2023-03-30-para-comp-hs.ipynb#X21sdnNjb2RlLXJlbW90ZQ%3D%3D?line=21'>22</a>\u001b[0m pool\u001b[39m.\u001b[39mjoin()\n",
      "File \u001b[0;32m~/anaconda3/lib/python3.9/multiprocessing/pool.py:765\u001b[0m, in \u001b[0;36mApplyResult.get\u001b[0;34m(self, timeout)\u001b[0m\n\u001b[1;32m    764\u001b[0m \u001b[39mdef\u001b[39;00m \u001b[39mget\u001b[39m(\u001b[39mself\u001b[39m, timeout\u001b[39m=\u001b[39m\u001b[39mNone\u001b[39;00m):\n\u001b[0;32m--> 765\u001b[0m     \u001b[39mself\u001b[39;49m\u001b[39m.\u001b[39;49mwait(timeout)\n\u001b[1;32m    766\u001b[0m     \u001b[39mif\u001b[39;00m \u001b[39mnot\u001b[39;00m \u001b[39mself\u001b[39m\u001b[39m.\u001b[39mready():\n\u001b[1;32m    767\u001b[0m         \u001b[39mraise\u001b[39;00m \u001b[39mTimeoutError\u001b[39;00m\n",
      "File \u001b[0;32m~/anaconda3/lib/python3.9/multiprocessing/pool.py:762\u001b[0m, in \u001b[0;36mApplyResult.wait\u001b[0;34m(self, timeout)\u001b[0m\n\u001b[1;32m    761\u001b[0m \u001b[39mdef\u001b[39;00m \u001b[39mwait\u001b[39m(\u001b[39mself\u001b[39m, timeout\u001b[39m=\u001b[39m\u001b[39mNone\u001b[39;00m):\n\u001b[0;32m--> 762\u001b[0m     \u001b[39mself\u001b[39;49m\u001b[39m.\u001b[39;49m_event\u001b[39m.\u001b[39;49mwait(timeout)\n",
      "File \u001b[0;32m~/anaconda3/lib/python3.9/threading.py:574\u001b[0m, in \u001b[0;36mEvent.wait\u001b[0;34m(self, timeout)\u001b[0m\n\u001b[1;32m    572\u001b[0m signaled \u001b[39m=\u001b[39m \u001b[39mself\u001b[39m\u001b[39m.\u001b[39m_flag\n\u001b[1;32m    573\u001b[0m \u001b[39mif\u001b[39;00m \u001b[39mnot\u001b[39;00m signaled:\n\u001b[0;32m--> 574\u001b[0m     signaled \u001b[39m=\u001b[39m \u001b[39mself\u001b[39;49m\u001b[39m.\u001b[39;49m_cond\u001b[39m.\u001b[39;49mwait(timeout)\n\u001b[1;32m    575\u001b[0m \u001b[39mreturn\u001b[39;00m signaled\n",
      "File \u001b[0;32m~/anaconda3/lib/python3.9/threading.py:312\u001b[0m, in \u001b[0;36mCondition.wait\u001b[0;34m(self, timeout)\u001b[0m\n\u001b[1;32m    310\u001b[0m \u001b[39mtry\u001b[39;00m:    \u001b[39m# restore state no matter what (e.g., KeyboardInterrupt)\u001b[39;00m\n\u001b[1;32m    311\u001b[0m     \u001b[39mif\u001b[39;00m timeout \u001b[39mis\u001b[39;00m \u001b[39mNone\u001b[39;00m:\n\u001b[0;32m--> 312\u001b[0m         waiter\u001b[39m.\u001b[39;49macquire()\n\u001b[1;32m    313\u001b[0m         gotit \u001b[39m=\u001b[39m \u001b[39mTrue\u001b[39;00m\n\u001b[1;32m    314\u001b[0m     \u001b[39melse\u001b[39;00m:\n",
      "\u001b[0;31mKeyboardInterrupt\u001b[0m: "
     ]
    }
   ],
   "source": [
    "import random\n",
    "import multiprocessing as mp\n",
    "\n",
    "def is_sorted(lst):\n",
    "    \"\"\"\n",
    "    Checks if the given list is sorted in non-descending order.\n",
    "    \"\"\"\n",
    "    return all(lst[i] <= lst[i+1] for i in range(len(lst)-1))\n",
    "\n",
    "def bogosort(lst, num_procs):\n",
    "    \"\"\"\n",
    "    Sorts the given list using the Bogosort algorithm in parallel.\n",
    "\n",
    "    num_procs: The number of processes to use for sorting.\n",
    "    \"\"\"\n",
    "    pool = mp.Pool(processes=num_procs)\n",
    "    while not is_sorted(lst):\n",
    "        chunks = [lst[i:i+len(lst)//num_procs] for i in range(0, len(lst), len(lst)//num_procs)]\n",
    "        results = pool.map_async(sort_chunk, chunks)\n",
    "        lst = [item for sublist in results.get() for item in sublist]\n",
    "    pool.close()\n",
    "    pool.join()\n",
    "    return lst\n",
    "\n",
    "def sort_chunk(lst):\n",
    "    \"\"\"\n",
    "    Sorts a chunk of the given list using the Bogosort algorithm.\n",
    "    \"\"\"\n",
    "    while not is_sorted(lst):\n",
    "        random.shuffle(lst)\n",
    "    return lst\n",
    "\n",
    "if __name__ == '__main__':\n",
    "    lst = [random.randint(1, 100) for _ in range(3)]\n",
    "    print('Unsorted list:', lst)\n",
    "    sorted_lst = bogosort(lst, 2)\n",
    "    print('Sorted list:', sorted_lst)\n"
   ]
  },
  {
   "attachments": {},
   "cell_type": "markdown",
   "metadata": {},
   "source": [
    "Below is an example of how selection sort can be combined with what we learned about parallel programming and hashing/collisions:"
   ]
  },
  {
   "cell_type": "code",
   "execution_count": 17,
   "metadata": {},
   "outputs": [
    {
     "name": "stdout",
     "output_type": "stream",
     "text": [
      "Unsorted dictionary: {0: 76, 1: 7, 2: 6, 3: 48, 4: 50, 5: 69, 6: 86, 7: 77, 8: 72, 9: 88}\n",
      "Sorted dictionary: {0: 6, 1: 7, 2: 48, 3: 50, 4: 69, 5: 72, 6: 76, 7: 77, 8: 86, 9: 88}\n"
     ]
    }
   ],
   "source": [
    "import random\n",
    "\n",
    "def selection_sort_dict(dictionary):\n",
    "    \"\"\"\n",
    "    Sorts the values in the given dictionary using the selection sort algorithm.\n",
    "    \"\"\"\n",
    "    keys = list(dictionary.keys())\n",
    "    for i in range(len(keys)):\n",
    "        min_val = dictionary[keys[i]]\n",
    "        min_key = keys[i]\n",
    "        for j in range(i+1, len(keys)):\n",
    "            if dictionary[keys[j]] < min_val:\n",
    "                min_val = dictionary[keys[j]]\n",
    "                min_key = keys[j]\n",
    "        if min_key != keys[i]:\n",
    "            dictionary[keys[i]], dictionary[min_key] = dictionary[min_key], dictionary[keys[i]]\n",
    "    return dictionary\n",
    "\n",
    "if __name__ == '__main__':\n",
    "    # Example usage:\n",
    "    my_dict = {key: random.randint(1, 100) for key in range(10)}\n",
    "    print('Unsorted dictionary:', my_dict)\n",
    "    sorted_dict = selection_sort_dict(my_dict)\n",
    "    print('Sorted dictionary:', sorted_dict)\n"
   ]
  }
 ],
 "metadata": {
  "kernelspec": {
   "display_name": "base",
   "language": "python",
   "name": "python3"
  },
  "language_info": {
   "codemirror_mode": {
    "name": "ipython",
    "version": 3
   },
   "file_extension": ".py",
   "mimetype": "text/x-python",
   "name": "python",
   "nbconvert_exporter": "python",
   "pygments_lexer": "ipython3",
   "version": "3.9.12"
  },
  "orig_nbformat": 4,
  "vscode": {
   "interpreter": {
    "hash": "964e6c848df8296cf4a9f96b470957c05686db63af9a122bc7e065399cf29682"
   }
  }
 },
 "nbformat": 4,
 "nbformat_minor": 2
}
