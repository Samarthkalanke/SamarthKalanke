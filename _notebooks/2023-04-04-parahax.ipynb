{
 "cells": [
  {
   "attachments": {},
   "cell_type": "markdown",
   "metadata": {},
   "source": [
    "# Parallel Computing, Hashmaps\n",
    "\n",
    "- title: Parallel Computing, Hashmaps\n",
    "- toc: true\n",
    "- categories: [units]\n",
    "- permalink: /parallel-computing-hashmaps\n",
    "- tags: [hacks]"
   ]
  },
  {
   "attachments": {},
   "cell_type": "markdown",
   "metadata": {},
   "source": [
    "# Parallel Programming Hacks"
   ]
  },
  {
   "attachments": {},
   "cell_type": "markdown",
   "metadata": {},
   "source": [
    "## Example 1:\n",
    "\n",
    "A particular computer has two identical processors which can run in parallel. Each process must be executed on a single processor and each processor can only run one process at a time.\n",
    "\n",
    "The table below lists the amount of time it takes to execute each of the processes on a single computer. None of the processes are dependent on any of the others.\n",
    "\n",
    "What is the minimum amount of time (approximate) to execute all three processes when the two processors are run in parallel?\n",
    "\n",
    "| Process | Execution Time on Either Processor|\n",
    "| --- | --- |\n",
    "| X | 50 seconds |\n",
    "| Y | 10 seconds |\n",
    "| Z | 30 seconds |\n",
    "\n",
    "Answer: 50 seconds. "
   ]
  },
  {
   "attachments": {},
   "cell_type": "markdown",
   "metadata": {},
   "source": [
    "## Example 2:\n",
    "\n",
    "A computer has two duplicate processors that are able to run in parallel. The table below shows the amount of time it takes each processor to execute each of two processes. Neither of the processes is dependent on the other.\n",
    "\n",
    "| Process | Execution Time on Either |\n",
    "| --- | --- |\n",
    "| A | 25 seconds |\n",
    "| B | 45 seconds |\n",
    "\n",
    "**What is the difference in execution time between running the two processes in parallel in place of running one after the other on a single processor?**\n",
    "\n",
    "Sequential = 70 seconds\n",
    "\n",
    "Parallel = 25 seconds\n",
    "\n",
    "**Difference = 45 seconds**"
   ]
  },
  {
   "cell_type": "code",
   "execution_count": 2,
   "metadata": {},
   "outputs": [
    {
     "name": "stdout",
     "output_type": "stream",
     "text": [
      "Original List: [1, 2, 3, 4, 5]\n",
      "Squares: [1, 4, 9, 16, 25]\n"
     ]
    }
   ],
   "source": [
    "# Here is an example of a squaring program that uses list comprehension, parallel programming, and #\n",
    "                       # mapping to square each number in a list of numbers #\n",
    "\n",
    "import multiprocessing\n",
    "\n",
    "def square(num):\n",
    "    return num ** 2\n",
    "\n",
    "if __name__ == '__main__':\n",
    "    nums = [1, 2, 3, 4, 5]\n",
    "    pool = multiprocessing.Pool(processes=4)\n",
    "    squares = [result for result in pool.map(square, nums)]\n",
    "    print(f\"Original List: {nums}\")\n",
    "    print(f\"Squares: {squares}\")\n"
   ]
  },
  {
   "attachments": {},
   "cell_type": "markdown",
   "metadata": {},
   "source": [
    "# Hashmapping Hacks"
   ]
  },
  {
   "cell_type": "code",
   "execution_count": 2,
   "metadata": {},
   "outputs": [],
   "source": [
    "xeem = {\n",
    "    \"artist_name\": \"Lil' Xeem\",\n",
    "    \"real_name\": \"Azeem Khan\",\n",
    "    \"explicit\": True,\n",
    "    \"genres\": [\"Hip-Hop\", \"R&B\"],\n",
    "    \"platforms\": [\"Spotify\", \"Soundcloud\", \"Apple Music\", \"Amazon Music\", \"Deezer\", \"YouTube Music\"],\n",
    "    \"recent_tracks\": {\n",
    "        1: \"Lil Bish\",\n",
    "        2: \"romantic homicide\",\n",
    "        3: \"Go\",\n",
    "        4: \"Solo\",\n",
    "        5: \"Runnin'\",\n",
    "        6: \"Matte Black\",\n",
    "        7: \"Real\",\n",
    "        8: \"tbh\",\n",
    "        9: \"Don't Know Why\",\n",
    "        10: \"Not Gang\"\n",
    "    }\n",
    "}\n",
    "\n",
    "stingr = {\n",
    "    \"artist_name\": \"Stingr\",\n",
    "    \"real_name\": \"Paaras Mandar Vikas Dnyaneshwar Purohit\",\n",
    "    \"explicit\": False,\n",
    "    \"genres\": [\"Hip-Hop\", \"Rap\", \"R&B\", \"Pop\", \"Rock\"],\n",
    "    \"recent_tracks\" : {\n",
    "        1: \"Chillin' & Groovin'\",\n",
    "        2: \"Lenses\",\n",
    "        3: \"Hey, It's Me From High School\",\n",
    "        4: \"Run Away\",\n",
    "        5: \"Loco Tres\",\n",
    "        6: \"Thought So\",\n",
    "        7: \"ROCKIN DESIGNER\",\n",
    "        8: \"My Problems\",\n",
    "        9: \"Butterfly Doors\",\n",
    "        10: \"Real Wildin'\",\n",
    "    }\n",
    "}"
   ]
  },
  {
   "cell_type": "code",
   "execution_count": 4,
   "metadata": {},
   "outputs": [
    {
     "name": "stdout",
     "output_type": "stream",
     "text": [
      "{1: 'Lil Bish', 2: 'romantic homicide', 3: 'Go', 4: 'Solo', 5: \"Runnin'\", 6: 'Matte Black', 7: 'Real', 8: 'tbh', 9: \"Don't Know Why\", 10: 'Not Gang'}\n",
      "{1: \"Chillin' & Groovin'\", 2: 'Lenses', 3: \"Hey, It's Me From High School\", 4: 'Run Away', 5: 'Loco Tres', 6: 'Thought So', 7: 'ROCKIN DESIGNER', 8: 'My Problems', 9: 'Butterfly Doors', 10: \"Real Wildin'\"}\n",
      "Not Gang\n",
      "Real Wildin'\n"
     ]
    }
   ],
   "source": [
    "# In this example, Lil Xeem uses the get() method, while I use regular list accessing syntax\n",
    "\n",
    "print(xeem.get('recent_tracks'))\n",
    "print(stingr['recent_tracks'])\n",
    "\n",
    "print(xeem.get('recent_tracks')[10])\n",
    "print(stingr['recent_tracks'][10])"
   ]
  },
  {
   "cell_type": "code",
   "execution_count": 6,
   "metadata": {},
   "outputs": [
    {
     "name": "stdout",
     "output_type": "stream",
     "text": [
      "{'BOB Ramaz', 'GTRARI', 'Evvan', 'ABH', 'Beware'}\n",
      "{'Copaine', 'Foley', 'djphatjive'}\n"
     ]
    }
   ],
   "source": [
    "stingr[\"features\"] = set(['GTRARI', 'Beware', 'BOB Ramaz', 'ABH', 'Evvan', 'Beware'])\n",
    "# In the above code, the feature \"Beware\" is repeated twice. The set() method, however\n",
    "# removes the duplicate\n",
    "xeem[\"features\"] = set([\"Copaine\", \"djphatjive\", \"Foley\", \"Foley\", \"Copaine\"])\n",
    "# In the above code, the features \"Copaine\" and \"Foley\" are repeated twice. The set() method,\n",
    "# however, removes the duplicate\n",
    "\n",
    "print(stingr[\"features\"])\n",
    "print(xeem[\"features\"])"
   ]
  },
  {
   "cell_type": "code",
   "execution_count": 7,
   "metadata": {},
   "outputs": [
    {
     "name": "stdout",
     "output_type": "stream",
     "text": [
      "artist_name: Stingr\n",
      "real_name: Paaras Mandar Vikas Dnyaneshwar Purohit\n",
      "explicit: False\n",
      "genres: ['Hip-Hop', 'Rap', 'R&B', 'Pop', 'Rock']\n",
      "recent_tracks: {1: \"Chillin' & Groovin'\", 2: 'Lenses', 3: \"Hey, It's Me From High School\", 4: 'Run Away', 5: 'Loco Tres', 6: 'Thought So', 7: 'ROCKIN DESIGNER', 8: 'My Problems', 9: 'Butterfly Doors', 10: \"Real Wildin'\"}\n",
      "features: {'BOB Ramaz', 'GTRARI', 'Evvan', 'ABH', 'Beware'}\n"
     ]
    }
   ],
   "source": [
    "for k,v in stingr.items():\n",
    "    print(str(k) + \": \" + str(v))"
   ]
  },
  {
   "cell_type": "code",
   "execution_count": 8,
   "metadata": {},
   "outputs": [
    {
     "name": "stdout",
     "output_type": "stream",
     "text": [
      "artist_name: Lil' Xeem\n",
      "real_name: Azeem Khan\n",
      "explicit: True\n",
      "genres: ['Hip-Hop', 'R&B']\n",
      "platforms: ['Spotify', 'Soundcloud', 'Apple Music', 'Amazon Music', 'Deezer', 'YouTube Music']\n",
      "recent_tracks: {1: 'Lil Bish', 2: 'romantic homicide', 3: 'Go', 4: 'Solo', 5: \"Runnin'\", 6: 'Matte Black', 7: 'Real', 8: 'tbh', 9: \"Don't Know Why\", 10: 'Not Gang'}\n",
      "features: {'Copaine', 'Foley', 'djphatjive'}\n"
     ]
    }
   ],
   "source": [
    "for k,v in xeem.items():\n",
    "    print(str(k) + \": \" + str(v))"
   ]
  },
  {
   "cell_type": "code",
   "execution_count": 11,
   "metadata": {},
   "outputs": [
    {
     "name": "stdout",
     "output_type": "stream",
     "text": [
      "{1: \"Chillin' & Groovin'\", 2: 'Lenses', 3: \"Hey, It's Me From High School\", 4: 'Run Away', 5: 'Loco Tres', 6: 'Thought So', 7: 'ROCKIN DESIGNER', 8: 'My Problems', 9: 'Butterfly Doors', 10: \"Real Wildin'\"}\n"
     ]
    }
   ],
   "source": [
    "def search():\n",
    "    artist = \"\"\n",
    "    which_artist = input(\"Which artist would you like to know about, Stingr or Lil Xeem?\")\n",
    "    if which_artist.lower() == \"stingr\":\n",
    "        artist = stingr\n",
    "    elif which_artist.lower() == \"lil xeem\":\n",
    "        artist = xeem\n",
    "    else:\n",
    "        print(\"Invalid Search\")\n",
    "    search = input(\"What would you like to know about \" + str(which_artist).capitalize() + \"?\")\n",
    "    if artist.get(search.lower()) == None:\n",
    "        print(\"Invalid Search\")\n",
    "    else:\n",
    "        print(artist.get(search.lower()))\n",
    "\n",
    "search()"
   ]
  },
  {
   "attachments": {},
   "cell_type": "markdown",
   "metadata": {},
   "source": [
    "## Taylor Swift\n",
    "\n",
    "I have already wrote about why I love blank space by Taylor Swift"
   ]
  },
