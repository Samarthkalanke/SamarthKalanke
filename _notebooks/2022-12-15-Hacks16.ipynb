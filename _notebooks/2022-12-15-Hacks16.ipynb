{
 "cells": [
  {
   "cell_type": "markdown",
   "metadata": {},
   "source": [
    "# Group 8 HACKS (Section 16)\n",
    "> Group 8 HACKS - Samarth Kalanke\n",
    "- toc: true\n",
    "- comments: true"
   ]
  },
  {
   "cell_type": "markdown",
   "metadata": {},
   "source": [
    "#  HACKS\n",
    "\n",
    "|Question|Answer |\n",
    "|---|---|\n",
    "|Name(First+Last)| Samarth Kalanke |\n",
    "|1| A  | \n",
    "|2|  A  |\n",
    "|3| C |\n",
    "|4| C  | \n",
    "|5| C |\n",
    "|6| A |\n",
    "|7| B |\n",
    "|8| no #8 |\n",
    "|9| B  |"
   ]
  },
  {
   "cell_type": "markdown",
   "metadata": {},
   "source": [
    "# Notes and Vocabulary (Extra Work)\n",
    "\n",
    "### Notes\n",
    "- Pseudo-random number generators are used to mock the imperfections that are always in the real world and save resources\n",
    "- When making a simulation you should consider:\n",
    "- Removing details by using pseudo-random number generators\n",
    "- Using other ideas; like procedure, flowcharts and conditionals\n",
    "- Not suitable if the circumstances are very complicated or if an experiment would be easier\n",
    "- Simulations replicate real world scenarios digitally\n",
    "- Experiments are held in the real world\n",
    "- Simulations are easier to repeat to obtain more estimations\n",
    "- Simulation: a way to simulate real-world environments to test safety or logistics\n",
    "- Simulations will not have the same result\n",
    "- Simulation investigates phenomenon without real world constraints of time etc.\n",
    "- Experiments are more accurate than simulations\n",
    "- Should remove other details to improve functionality of the simulation\n",
    "\n",
    "### Simulations\n",
    "A simulation is an simpler abstraction of an very complicated natural phenomena. It removes details that are unnecessary or are too difficult to simulate. The level of abstraction in a simulation depends on why we're creating it in the first place.\n",
    "\n",
    "### Why would you make a simulation?\n",
    "**Safer**: Many safety hazards that can be encountered through experimentation can be avoided with simulations. Ex: Designing a boat to travel to an island\n",
    "\n",
    "**Less Expensive**: Since real world equipment isn’t needed to make and run a simulation (only computer and programmer needed), this makes simulations an inexpensive way to test something. Ex: Boat example again\n",
    "\n",
    "**Repeatable**: Once a simulation is created, it’s easy to repeat it to get different but similar results.\n",
    "Can Make Predictions: Something that can’t be done with experiments is making predictions. Simulations are useful for this because previous data can be used to predict what will happen in the future. Ex: Global population\n"
   ]
  },
  {
   "cell_type": "markdown",
   "metadata": {},
   "source": [
    "# Extra Credit Code"
   ]
  },
  {
   "cell_type": "code",
   "execution_count": 1,
   "metadata": {},
   "outputs": [
    {
     "name": "stdout",
     "output_type": "stream",
     "text": [
      "Simulation 1\n",
      "Number of 1s on 10000 rolls: 1722, or 17.22%\n",
      "Number of 2s on 10000 rolls: 1699, or 16.99%\n",
      "Number of 3s on 10000 rolls: 1570, or 15.7%\n",
      "Number of 4s on 10000 rolls: 1669, or 16.69%\n",
      "Number of 5s on 10000 rolls: 1682, or 16.82%\n",
      "Number of 6s on 10000 rolls: 1658, or 16.58%\n",
      "Simulation 2\n",
      "Number of 1s on 10000 rolls: 1706, or 17.06%\n",
      "Number of 2s on 10000 rolls: 1700, or 17.0%\n",
      "Number of 3s on 10000 rolls: 1692, or 16.92%\n",
      "Number of 4s on 10000 rolls: 1646, or 16.46%\n",
      "Number of 5s on 10000 rolls: 1599, or 15.99%\n",
      "Number of 6s on 10000 rolls: 1657, or 16.57%\n",
      "Simulation 3\n",
      "Number of 1s on 10000 rolls: 1718, or 17.18%\n",
      "Number of 2s on 10000 rolls: 1662, or 16.62%\n",
      "Number of 3s on 10000 rolls: 1666, or 16.66%\n",
      "Number of 4s on 10000 rolls: 1694, or 16.94%\n",
      "Number of 5s on 10000 rolls: 1641, or 16.41%\n",
      "Number of 6s on 10000 rolls: 1619, or 16.19%\n"
     ]
    }
   ],
   "source": [
    "import random, time, math\n",
    "\n",
    "def d6():\n",
    "    return random.randint(1,6)\n",
    "\n",
    "def run_sim():\n",
    "    my_dic = {}\n",
    "\n",
    "    for i in range(10000):\n",
    "        num = d6()\n",
    "        if num not in my_dic:\n",
    "            my_dic[num] = 1\n",
    "        else:\n",
    "            my_dic[num] = my_dic[num] + 1\n",
    "\n",
    "    for number in sorted(my_dic):\n",
    "        print(f\"Number of {number}s on 10000 rolls: {my_dic[number]}, or {round(((my_dic[number])/10000)*100, 2)}%\")\n",
    "\n",
    "for i in range(3):\n",
    "    print(\"Simulation \" + str(i+1))\n",
    "    run_sim()"
   ]
  },
  {
   "cell_type": "code",
   "execution_count": 2,
   "metadata": {},
   "outputs": [
    {
     "name": "stdout",
     "output_type": "stream",
     "text": [
      "Welcome to a coin flip simulation!\n",
      "----------------------------------\n",
      "Number of heads: 4940\n",
      "Number of tails: 5060\n"
     ]
    }
   ],
   "source": [
    "import random\n",
    "\n",
    "print(\"Welcome to a coin flip simulation!\")\n",
    "print(\"----------------------------------\")\n",
    "\n",
    "n = 10000 #this value can easily be changed to change the sample size\n",
    "heads = 0\n",
    "tails = 0\n",
    " \n",
    "for i in range(n):\n",
    "    flip = random.randint(1,2) # get a random number between 1 and 2\n",
    "    if flip == 1: # head\n",
    "        heads = heads + 1\n",
    "    else:         # tail\n",
    "        tails = tails + 1\n",
    " \n",
    "print('Number of heads:', heads)\n",
    "print('Number of tails:', tails)"
   ]
  },
  {
   "cell_type": "code",
   "execution_count": 3,
   "metadata": {},
   "outputs": [
    {
     "name": "stdout",
     "output_type": "stream",
     "text": [
      "Roll 1: 1\n",
      "Roll 2: 3\n",
      "Roll 3: 3\n",
      "Roll 4: 6\n",
      "Roll 5: 1\n",
      "Roll 6: 4\n",
      "Roll 7: 1\n",
      "Roll 8: 1\n",
      "Roll 9: 2\n",
      "Roll 10: 6\n",
      "Roll 11: 5\n",
      "Roll 12: 2\n",
      "Roll 13: 4\n",
      "Roll 14: 6\n",
      "Roll 15: 4\n",
      "Roll 16: 4\n",
      "Roll 17: 1\n",
      "Roll 18: 5\n",
      "Roll 19: 1\n",
      "Roll 20: 2\n",
      "Roll 21: 3\n",
      "Roll 22: 6\n",
      "Roll 23: 4\n",
      "Roll 24: 4\n",
      "Roll 25: 1\n",
      "Roll 26: 3\n",
      "Roll 27: 6\n",
      "Roll 28: 6\n",
      "Roll 29: 4\n",
      "Roll 30: 6\n",
      "Roll 31: 5\n",
      "Roll 32: 1\n",
      "Roll 33: 4\n",
      "Roll 34: 4\n",
      "Roll 35: 4\n",
      "Roll 36: 2\n",
      "Roll 37: 4\n",
      "Roll 38: 4\n",
      "Roll 39: 1\n",
      "Roll 40: 1\n",
      "Roll 41: 1\n",
      "Roll 42: 5\n",
      "Roll 43: 4\n",
      "Roll 44: 2\n",
      "Roll 45: 5\n",
      "Roll 46: 3\n",
      "Roll 47: 6\n",
      "Roll 48: 5\n",
      "Roll 49: 6\n",
      "Roll 50: 1\n",
      "Roll 51: 6\n",
      "Roll 52: 5\n",
      "Roll 53: 3\n",
      "Roll 54: 1\n",
      "Roll 55: 3\n",
      "Roll 56: 3\n",
      "Roll 57: 3\n",
      "Roll 58: 2\n",
      "Roll 59: 1\n",
      "Roll 60: 5\n",
      "Roll 61: 2\n",
      "Roll 62: 2\n",
      "Roll 63: 2\n",
      "Roll 64: 4\n",
      "Roll 65: 2\n",
      "Roll 66: 2\n",
      "Roll 67: 6\n",
      "Roll 68: 6\n",
      "Roll 69: 2\n",
      "Roll 70: 5\n",
      "Roll 71: 4\n",
      "Roll 72: 4\n",
      "Roll 73: 3\n",
      "Roll 74: 3\n",
      "Roll 75: 5\n",
      "Roll 76: 3\n",
      "Roll 77: 6\n",
      "Roll 78: 4\n",
      "Roll 79: 4\n",
      "Roll 80: 2\n",
      "Roll 81: 6\n",
      "Roll 82: 4\n",
      "Roll 83: 4\n",
      "Roll 84: 5\n",
      "Roll 85: 5\n",
      "Roll 86: 3\n",
      "Roll 87: 2\n",
      "Roll 88: 4\n",
      "Roll 89: 1\n",
      "Roll 90: 6\n",
      "Roll 91: 4\n",
      "Roll 92: 3\n",
      "Roll 93: 5\n",
      "Roll 94: 6\n",
      "Roll 95: 1\n",
      "Roll 96: 6\n",
      "Roll 97: 5\n",
      "Roll 98: 2\n",
      "Roll 99: 6\n",
      "Roll 100: 4\n"
     ]
    }
   ],
   "source": [
    "import random\n",
    "\n",
    "num_rolls = int(input(\"how many times would you like to roll?\"))\n",
    "\n",
    "for i in range(num_rolls):\n",
    "    roll = random.randint(1, 6)\n",
    "    print(f'Roll {i+1}: {roll}')"
   ]
  },
  {
   "cell_type": "code",
   "execution_count": 4,
   "metadata": {},
   "outputs": [
    {
     "name": "stdout",
     "output_type": "stream",
     "text": [
      "[{'First Dice': 2, 'Second Dice': 6}, {'First Dice': 2, 'Second Dice': 5}, {'First Dice': 6, 'Second Dice': 2}, {'First Dice': 3, 'Second Dice': 6}, {'First Dice': 2, 'Second Dice': 5}]\n"
     ]
    }
   ],
   "source": [
    "import random\n",
    "\n",
    "data = []\n",
    "\n",
    "for i in range(5):\n",
    "  one = random.randint(1, 6)  \n",
    "  two = random.randint(1, 6)\n",
    "\n",
    "  d = { \"First Dice\": one, \"Second Dice\": two}\n",
    "\n",
    "  data.append(d)\n",
    "\n",
    "print(data)"
   ]
  }
 ],
 "metadata": {
  "kernelspec": {
   "display_name": "Python 3",
   "language": "python",
   "name": "python3"
  },
  "language_info": {
   "codemirror_mode": {
    "name": "ipython",
    "version": 3
   },
   "file_extension": ".py",
   "mimetype": "text/x-python",
   "name": "python",
   "nbconvert_exporter": "python",
   "pygments_lexer": "ipython3",
   "version": "3.9.13"
  },
  "orig_nbformat": 4,
  "vscode": {
   "interpreter": {
    "hash": "b9c3426249d7334374c23b70574cd863c9c4586e94e725b6faba2747af0061b7"
   }
  }
 },
 "nbformat": 4,
 "nbformat_minor": 2
}
