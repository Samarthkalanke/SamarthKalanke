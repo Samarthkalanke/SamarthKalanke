<!DOCTYPE html>
<html>
<head>
  <title>Canvas Drawing Example</title>
  <style>
    #canvas {
      border: 1px solid black;
    }
  </style>
</head>
<body>
  <h1>Canvas Drawing Example</h1>
  
  <canvas id="canvas" width="500" height="400"></canvas>
  
  <script>
    // JavaScript code for drawing on the canvas goes here
    // Get the canvas element
    var canvas = document.getElementById("canvas");

    // Get the 2D rendering context
    var ctx = canvas.getContext("2d");

    // Draw a rectangle on the canvas
    ctx.fillStyle = "red";
    ctx.fillRect(50, 50, 100, 100);

  </script>
</body>
</html>

