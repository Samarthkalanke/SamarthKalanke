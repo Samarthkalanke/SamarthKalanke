<article class="post h-entry" itemscope itemtype="http://schema.org/BlogPosting">

  <header class="post-header">
    <h1 class="post-title p-name" itemprop="name headline">Final CPT Plans for CB</h1><p class="page-description">My plans to finish my CPT project for Collegeboard.</p><p class="post-meta post-meta-title"><time class="dt-published" datetime="2023-03-27T00:00:00-05:00" itemprop="datePublished">
        Mar 27, 2023
      </time>
       • <span class="read-time" title="Estimated read time">
    
    
      1 min read
    
</span></p>

    
      <p class="category-tags"><i class="fas fa-tags category-tags-icon"></i></i> 
      
        <a class="category-tags-link" href="/SamarthKalanke/categories/#week 28">week 28</a>
        &nbsp;
      
        <a class="category-tags-link" href="/SamarthKalanke/categories/#collegeboard">collegeboard</a>
        &nbsp;
      
        <a class="category-tags-link" href="/SamarthKalanke/categories/#CPT">CPT</a>
        &nbsp;
      
        <a class="category-tags-link" href="/SamarthKalanke/categories/#project">project</a>
        &nbsp;
      
        <a class="category-tags-link" href="/SamarthKalanke/categories/#planning">planning</a>
        
      
      </p>
    

    </header>

  <div class="post-content e-content" itemprop="articleBody">
    <ul id="toc" class="section-nav">
</ul># What do I need to Do?

- Start the project 
- Make a tic tac toe project. 


# What is Completed?

Nothing 


# When do I want to be done?

- GOAL: finish by the end of Spring Break 

  </div><!-- from https://github.com/utterance/utterances -->
<script src="https://utteranc.es/client.js"
        repo="Samarthkalanke/SamarthKalanke"
        issue-term="title"
        label="blogpost-comment"
        theme="github-light"
        crossorigin="anonymous"
        async>
</script><a class="u-url" href="/SamarthKalanke/CB/CPTplan" hidden></a>
</article>
