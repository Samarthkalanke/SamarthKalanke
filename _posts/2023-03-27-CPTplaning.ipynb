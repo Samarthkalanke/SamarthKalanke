---
title: Final CPT Plans for CB
toc: true
comments: true
layout: post
description: My plans to finish my CPT project for Collegeboard.
categories: [week 28, collegeboard, CPT, project, planning]
---

# What do I need to Do?

- Go and make a project about tic tac toe:
    - Make it so that people can play the game
    - Make code
- Fix up CB write up by going through notes taken when talking about the CPT project in terms of the database


# What is Completed?

- Nothing


# When do I want to be done?

- GOAL: finish by the end of Spring Break 
